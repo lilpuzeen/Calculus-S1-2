{
 "cells": [
  {
   "cell_type": "markdown",
   "id": "9dbcea41",
   "metadata": {
    "pycharm": {
     "name": "#%% md\n"
    }
   },
   "source": [
    "<h1 style=\"text-align:center\"> Лабораторная работа №2 </h1>\n",
    "<h3 style=\"text-align:center\"> Вариант №31 </h3>\n",
    "<h3 style=\"text-align:center\">Товмасян Арман М3132</h3>"
   ]
  },
  {
   "cell_type": "markdown",
   "id": "2b33b460",
   "metadata": {
    "pycharm": {
     "name": "#%% md\n"
    }
   },
   "source": [
    "### Функция:\n",
    "$${\\normalsize f(x) = \\cos\\left({\\frac{\\pi}{6}} + x \\right)}$$"
   ]
  },
  {
   "cell_type": "markdown",
   "id": "67462dbd",
   "metadata": {
    "pycharm": {
     "name": "#%% md\n"
    }
   },
   "source": [
    "<h2 style=\"text-align:center\">Аналитический Метод</h2>"
   ]
  },
  {
   "cell_type": "markdown",
   "id": "dac8ceeb",
   "metadata": {
    "pycharm": {
     "name": "#%% md\n"
    }
   },
   "source": [
    "<p style=\"font-weight: bold; font-size: 18px;\">1. Получим формулу производной n-ого порядка для $f(x)$</p>"
   ]
  },
  {
   "cell_type": "markdown",
   "id": "77371d7e",
   "metadata": {},
   "source": [
    "<p style=\"font-size:15px\">Для начала найдем первые 4 производные</p>"
   ]
  },
  {
   "cell_type": "markdown",
   "id": "8f5b803f",
   "metadata": {},
   "source": [
    "$${\\normalsize f'(x) = -\\sin\\left({\\frac{\\pi}{6} + x }\\right) = \\cos\\left({\\frac{\\pi}{6}} + x + \\frac{\\pi}{2} \\right)}$$"
   ]
  },
  {
   "cell_type": "markdown",
   "id": "ad2752f2",
   "metadata": {},
   "source": [
    "$${\\normalsize f''(x) = -\\cos\\left({\\frac{\\pi}{6} + x }\\right) = \\cos\\left({\\frac{\\pi}{6}} + x + \\pi \\right)}$$"
   ]
  },
  {
   "cell_type": "markdown",
   "id": "b5c1105f",
   "metadata": {},
   "source": [
    "$${\\normalsize f'''(x) = \\sin\\left({\\frac{\\pi}{6} + x }\\right) = \\cos\\left({\\frac{\\pi}{6}} + x + \\frac{3 \\pi}{2} \\right)}$$"
   ]
  },
  {
   "cell_type": "markdown",
   "id": "62a20bc9",
   "metadata": {},
   "source": [
    "$${\\normalsize f^4(x) = \\cos\\left({\\frac{\\pi}{6} + x }\\right) = \\cos\\left({\\frac{\\pi}{6}} + x + 2 \\pi \\right)}$$\n",
    "<hr>"
   ]
  },
  {
   "cell_type": "markdown",
   "id": "746779a5",
   "metadata": {},
   "source": [
    "<p style=\"font-size:16px; text-align:center; font-weight: bold\">Докажем, что ${\\normalsize f^{(n)}(x) = \\cos\\left({\\frac{\\pi}{6} + x + \\frac{\\pi n}{2}}\\right)}$ индукцией по $n$</p>"
   ]
  },
  {
   "cell_type": "markdown",
   "id": "2deb8259",
   "metadata": {
    "pycharm": {
     "name": "#%% md\n"
    }
   },
   "source": [
    "<p style=\"font-size:15px\">Пусть $n = 1$:</p>"
   ]
  },
  {
   "cell_type": "markdown",
   "id": "d0f8861d",
   "metadata": {
    "pycharm": {
     "name": "#%% md\n"
    }
   },
   "source": [
    "$${\\normalsize f'(x) = -\\sin\\left({\\frac{\\pi}{6} + x }\\right) = \\cos\\left({\\frac{\\pi}{6}} + x + \\frac{\\pi}{2} \\right)}$$ \n",
    "<p style=\"font-size:15px; text-align:center\">Истина</p>"
   ]
  },
  {
   "cell_type": "markdown",
   "id": "baadc79e",
   "metadata": {
    "pycharm": {
     "name": "#%% md\n"
    }
   },
   "source": [
    "<p style=\"font-size:15px\">Пусть для $n = m$ истина. Докажем для случая $n = m + 1$</p>"
   ]
  },
  {
   "cell_type": "markdown",
   "id": "84743a76",
   "metadata": {
    "pycharm": {
     "name": "#%% md\n"
    }
   },
   "source": [
    "$${\\normalsize f^{(m + 1)}(x) = (f^{(m)}(x))' = \\left(\\cos\\left({\\frac{\\pi}{6} + x + \\frac{\\pi m}{2}}\\right)\\right)' = }$$"
   ]
  },
  {
   "cell_type": "markdown",
   "id": "892e9c6c",
   "metadata": {
    "pycharm": {
     "name": "#%% md\n"
    }
   },
   "source": [
    "$${\\normalsize = -\\sin\\left({\\frac{\\pi}{6} + x + \\frac{\\pi m}{2}}\\right) = \\cos\\left({\\frac{\\pi}{6} + x + \\frac{\\pi m}{2}} + \\frac{\\pi}{2} \\right) = }$$"
   ]
  },
  {
   "cell_type": "markdown",
   "id": "2f91337d",
   "metadata": {
    "pycharm": {
     "name": "#%% md\n"
    }
   },
   "source": [
    "$${\\normalsize = \\cos\\left({\\frac{\\pi}{6} + x + \\frac{\\pi (m + 1)}{2}}\\right)}$$"
   ]
  },
  {
   "cell_type": "markdown",
   "id": "31de7227",
   "metadata": {
    "pycharm": {
     "name": "#%% md\n"
    }
   },
   "source": [
    "<p style=\"font-size:15px; text-align: center\">Что является также истиной</p>\n",
    "<hr>"
   ]
  },
  {
   "cell_type": "markdown",
   "id": "7695b39c",
   "metadata": {
    "pycharm": {
     "name": "#%% md\n"
    }
   },
   "source": [
    "<p style=\"font-weight: bold; font-size: 18px;\">2. Распишем многочлен Тейлора n-ого порядка по степеням x</p>"
   ]
  },
  {
   "cell_type": "markdown",
   "id": "1ef23664",
   "metadata": {
    "pycharm": {
     "name": "#%% md\n"
    }
   },
   "source": [
    "<p style=\"font-size:15px\">По формуле Тейлора:</p>"
   ]
  },
  {
   "cell_type": "markdown",
   "id": "fd617124",
   "metadata": {
    "pycharm": {
     "name": "#%% md\n"
    }
   },
   "source": [
    "$${\\normalsize P_n(x) = \\sum_{k = 0}^n \\frac{f^k(x_0)\\,(x - x_0)^k}{k!}}$$"
   ]
  },
  {
   "cell_type": "markdown",
   "id": "c8bf5bc9",
   "metadata": {
    "pycharm": {
     "name": "#%% md\n"
    }
   },
   "source": [
    "<p style=\"font-size:15px\">Для нашей функции имеем многочлен Тейлора порядка $n$ вида:</p>"
   ]
  },
  {
   "cell_type": "markdown",
   "id": "a36914de",
   "metadata": {
    "pycharm": {
     "name": "#%% md\n"
    }
   },
   "source": [
    "$${\\normalsize P_n(x) = \\sum_{k = 0}^n \\cos\\left({\\frac{\\pi}{6} + \\frac{\\pi k}{2}}\\right)\\,\\frac{x^k}{k!}}$$\n",
    "<hr>"
   ]
  },
  {
   "cell_type": "markdown",
   "id": "733c22b6",
   "metadata": {
    "pycharm": {
     "name": "#%% md\n"
    }
   },
   "source": [
    "<p style=\"font-weight: bold; font-size: 18px;\">3. Выведем многочлен Тейлора n-ого порядка и сравним с П.2</p>"
   ]
  },
  {
   "cell_type": "markdown",
   "id": "3df77075",
   "metadata": {
    "pycharm": {
     "name": "#%% md\n"
    }
   },
   "source": [
    "$${\\normalsize \\cos\\left({\\frac{\\pi}{6} + x}\\right) = \\cos\\left({\\frac{\\pi}{6}}\\right)\\cos\\left({x}\\right) - \\sin\\left({\\frac{\\pi}{6}}\\right)\\sin\\left({x}\\right) = \\frac{\\sqrt{3}}{2}\\cos\\left({x}\\right) - \\frac{1}{2}\\sin\\left({x}\\right) = }$$"
   ]
  },
  {
   "cell_type": "markdown",
   "id": "22cdb8a1",
   "metadata": {
    "pycharm": {
     "name": "#%% md\n"
    }
   },
   "source": [
    "$${\\normalsize = \\frac{\\sqrt{3}}{2}\\sum_{k=0}^n \\frac{(-1)^k \\cdot x^{2k}}{(2k)!} - \\frac{1}{2}\\sum_{k=0}^n \\frac{(-1)^k \\cdot x^{(2k + 1)}}{(2k + 1)!} = (*)}$$"
   ]
  },
  {
   "cell_type": "markdown",
   "id": "64b9366d",
   "metadata": {
    "pycharm": {
     "name": "#%% md\n"
    }
   },
   "source": [
    "<p style=\"font-size:15px\">Однако заметим что</p>"
   ]
  },
  {
   "cell_type": "markdown",
   "id": "a0a85346",
   "metadata": {
    "pycharm": {
     "name": "#%% md\n"
    }
   },
   "source": [
    "$${\\normalsize\\frac{\\sqrt{3}}{2} \\cdot (-1)^k = \\cos\\left({\\frac{\\pi}{6} + \\frac{\\pi\\, (2k)}{2}}\\right)}$$"
   ]
  },
  {
   "cell_type": "markdown",
   "id": "46c439d4",
   "metadata": {
    "pycharm": {
     "name": "#%% md\n"
    }
   },
   "source": [
    "$${\\normalsize-\\frac{1}{2} \\cdot (-1)^k = \\cos\\left({\\frac{\\pi}{6} + \\frac{\\pi\\, (2k + 1)}{2}}\\right)}$$\n",
    "<hr>"
   ]
  },
  {
   "cell_type": "markdown",
   "id": "f81b0d1a",
   "metadata": {
    "pycharm": {
     "name": "#%% md\n"
    }
   },
   "source": [
    "$${\\normalsize (*) = \\sum_{k=0}^n \\cos\\left({\\frac{\\pi}{6} + \\frac{\\pi\\, (2k)}{2}}\\right) \\cdot \\frac{x^{2k}}{(2k)!} + \\sum_{k=0}^n \\cos\\left({\\frac{\\pi}{6} + \\frac{\\pi\\, (2k + 1)}{2}}\\right) \\cdot \\frac{x^{(2k + 1)}}{(2k + 1)!} =}$$"
   ]
  },
  {
   "cell_type": "markdown",
   "id": "467dfa8c",
   "metadata": {
    "pycharm": {
     "name": "#%% md\n"
    }
   },
   "source": [
    "$${\\normalsize = \\sum_{k=0}^n \\cos\\left({\\frac{\\pi}{6} + \\frac{\\pi k}{2}}\\right) \\cdot \\frac{x^k}{k!}}$$"
   ]
  },
  {
   "cell_type": "markdown",
   "id": "99ed2827",
   "metadata": {
    "pycharm": {
     "name": "#%% md\n"
    }
   },
   "source": [
    "<p style=\"font-size:15px; text-align:center\">Получили тоже самое что и в П.2</p>\n",
    "<hr>"
   ]
  },
  {
   "cell_type": "markdown",
   "id": "e57e772d",
   "metadata": {
    "pycharm": {
     "name": "#%% md\n"
    }
   },
   "source": [
    "<p style=\"font-weight: bold; font-size: 18px;\">4. Оценим остаточный член формулы Тейлора</p>"
   ]
  },
  {
   "cell_type": "markdown",
   "id": "960899bf",
   "metadata": {
    "pycharm": {
     "name": "#%% md\n"
    }
   },
   "source": [
    "<p style=\"font-size:15px\">Используем остаточный член формулы Тейлора в форме Лагранжа</p>"
   ]
  },
  {
   "cell_type": "markdown",
   "id": "ae81f54c",
   "metadata": {
    "pycharm": {
     "name": "#%% md\n"
    }
   },
   "source": [
    "$${\\normalsize R_n(x, x_0) = \\frac{f^{(n + 1)}(\\xi) \\cdot (x - x_0)^{n + 1}}{(n + 1)!}, \\quad \\xi \\in (0, x)}$$"
   ]
  },
  {
   "cell_type": "markdown",
   "id": "d75b4412",
   "metadata": {
    "pycharm": {
     "name": "#%% md\n"
    }
   },
   "source": [
    "<p style=\"font-size:15px\">Имеем следующие данные:</p>"
   ]
  },
  {
   "cell_type": "markdown",
   "id": "0261aa51",
   "metadata": {
    "pycharm": {
     "name": "#%% md\n"
    }
   },
   "source": [
    "$${\\normalsize f(x) = \\cos\\left({\\frac{\\pi}{6}} + x \\right)}$$"
   ]
  },
  {
   "cell_type": "markdown",
   "id": "12d76a69",
   "metadata": {
    "pycharm": {
     "name": "#%% md\n"
    }
   },
   "source": [
    "$${\\normalsize a = -0.2 \\quad \\Delta_1 = 10^{-3} \\quad \\Delta_2 = 10^{-6} \\quad x_0 = 0 \\quad x = a \\quad \\xi \\in (0, a)}$$"
   ]
  },
  {
   "cell_type": "markdown",
   "id": "8179e35e",
   "metadata": {
    "pycharm": {
     "name": "#%% md\n"
    }
   },
   "source": [
    "<p style=\"font-size:15px\">Тогда</p>"
   ]
  },
  {
   "cell_type": "markdown",
   "id": "571c6ba9",
   "metadata": {
    "pycharm": {
     "name": "#%% md\n"
    }
   },
   "source": [
    "$${\\normalsize f^{(n + 1)}(\\xi) = \\cos\\left({\\frac{\\pi}{6} + \\xi + \\frac{\\pi\\, (n + 1)}{2}}\\right)}$$"
   ]
  },
  {
   "cell_type": "markdown",
   "id": "ace904d3",
   "metadata": {
    "pycharm": {
     "name": "#%% md\n"
    }
   },
   "source": [
    "<p style=\"font-size:15px\">Оценим $\\left|R_n(a)\\right|$ сверху</p>"
   ]
  },
  {
   "cell_type": "markdown",
   "id": "55c17987",
   "metadata": {
    "pycharm": {
     "name": "#%% md\n"
    }
   },
   "source": [
    "$${\\normalsize \\left|\\,\\cos\\left({\\frac{\\pi}{6} + \\xi + \\frac{\\pi\\, (n + 1)}{2}}\\right) \\cdot \\frac{a^{(n+1)}}{(n+1)!}\\, \\right| = (*)}$$"
   ]
  },
  {
   "cell_type": "markdown",
   "id": "df739762",
   "metadata": {
    "pycharm": {
     "name": "#%% md\n"
    }
   },
   "source": [
    "<p style=\"font-size:15px\">Учитывая что: </p>"
   ]
  },
  {
   "cell_type": "markdown",
   "id": "1e299772",
   "metadata": {
    "pycharm": {
     "name": "#%% md\n"
    }
   },
   "source": [
    "$${\\normalsize \\left| \\,\\cos\\left({\\frac{\\pi}{6} + \\xi + \\frac{\\pi\\, (n + 1)}{2}}\\right)\\,\\right| \\le 1}$$"
   ]
  },
  {
   "cell_type": "markdown",
   "id": "97db07a7",
   "metadata": {
    "pycharm": {
     "name": "#%% md\n"
    }
   },
   "source": [
    "<p style=\"font-size:15px\">Получим:</p>"
   ]
  },
  {
   "cell_type": "markdown",
   "id": "4b166005",
   "metadata": {
    "pycharm": {
     "name": "#%% md\n"
    }
   },
   "source": [
    "$${\\normalsize (*) \\le \\frac{a^{(n+1)}}{(n+1)!}}$$"
   ]
  },
  {
   "cell_type": "markdown",
   "id": "edeab406",
   "metadata": {
    "pycharm": {
     "name": "#%% md\n"
    }
   },
   "source": [
    "<p style=\"font-size:15px\">Найдем такие $n_1$ и $n_2$ чтобы выполнялось неравенство для $\\Delta_1$ и $\\Delta_2$</p>"
   ]
  },
  {
   "cell_type": "markdown",
   "id": "efd2e56a",
   "metadata": {
    "pycharm": {
     "name": "#%% md\n"
    }
   },
   "source": [
    "$${\\normalsize \\left|R_{n_1}(a)\\right| < \\Delta_1}$$"
   ]
  },
  {
   "cell_type": "markdown",
   "id": "9e941c44",
   "metadata": {
    "pycharm": {
     "name": "#%% md\n"
    }
   },
   "source": [
    "$${\\normalsize n = 1 \\Rightarrow \\frac{0.2^2}{2!} = \\frac{2}{10^2} > \\frac{1}{10^3}}$$"
   ]
  },
  {
   "cell_type": "markdown",
   "id": "e4335952",
   "metadata": {
    "pycharm": {
     "name": "#%% md\n"
    }
   },
   "source": [
    "$${\\normalsize n = 2 \\Rightarrow \\frac{0.2^3}{3!} = \\frac{4}{3 \\cdot 10^3} \\gt \\frac{1}{10^3}}$$"
   ]
  },
  {
   "cell_type": "markdown",
   "id": "11c82884",
   "metadata": {
    "pycharm": {
     "name": "#%% md\n"
    }
   },
   "source": [
    "$${\\normalsize n = 3 \\Rightarrow \\frac{0.2^4}{4!} = \\frac{2}{3 \\cdot 10^4} \\lt \\frac{1}{10^3}}$$"
   ]
  },
  {
   "cell_type": "markdown",
   "id": "60db1362",
   "metadata": {
    "pycharm": {
     "name": "#%% md\n"
    }
   },
   "source": [
    "<p style=\"font-size:15px\">Следовательно $n_1 = 3$. Найдем значение $n_2$</p>"
   ]
  },
  {
   "cell_type": "markdown",
   "id": "ddebc256",
   "metadata": {
    "pycharm": {
     "name": "#%% md\n"
    }
   },
   "source": [
    "$${\\normalsize \\left|R_{n_2}(a)\\right| < \\Delta_2}$$"
   ]
  },
  {
   "cell_type": "markdown",
   "id": "3effc587",
   "metadata": {
    "pycharm": {
     "name": "#%% md\n"
    }
   },
   "source": [
    "$${\\normalsize n = 4 \\Rightarrow \\frac{0.2^5}{5!} = \\frac{4}{15 \\cdot 10^5} \\gt \\frac{1}{10^6}}$$"
   ]
  },
  {
   "cell_type": "markdown",
   "id": "b5992160",
   "metadata": {
    "pycharm": {
     "name": "#%% md\n"
    }
   },
   "source": [
    "$${\\normalsize n = 5 \\Rightarrow \\frac{0.2^6}{6!} = \\frac{4}{45 \\cdot 10^6} \\lt \\frac{1}{10^6}}$$"
   ]
  },
  {
   "cell_type": "markdown",
   "id": "597d9e67",
   "metadata": {
    "pycharm": {
     "name": "#%% md\n"
    }
   },
   "source": [
    "<p style=\"font-size:15px\">Следовательно $n_2 = 5$</p>"
   ]
  },
  {
   "cell_type": "markdown",
   "id": "ce21f956",
   "metadata": {
    "pycharm": {
     "name": "#%% md\n"
    }
   },
   "source": [
    "<p style=\"font-size:15px\">Получим</p>"
   ]
  },
  {
   "cell_type": "markdown",
   "id": "50d2fec1",
   "metadata": {
    "pycharm": {
     "name": "#%% md\n"
    }
   },
   "source": [
    "$${\\large n_1 = 3 \\quad n_2 = 5}$$"
   ]
  },
  {
   "cell_type": "markdown",
   "id": "a17c62c6",
   "metadata": {
    "pycharm": {
     "name": "#%% md\n"
    }
   },
   "source": [
    "<h2 style=\"text-align:center\">Численный Метод</h2>"
   ]
  },
  {
   "cell_type": "markdown",
   "id": "1bd6bedb",
   "metadata": {
    "pycharm": {
     "name": "#%% md\n"
    }
   },
   "source": [
    "<p style=\"font-weight: bold; font-size: 18px;\">1. Построим графики $f(x)$ и многочленов Тейлора $1, 2, \\ldots n_2$</p>"
   ]
  },
  {
   "cell_type": "code",
   "execution_count": null,
   "id": "2ecbe75f",
   "metadata": {
    "pycharm": {
     "name": "#%%\n"
    }
   },
   "outputs": [],
   "source": [
    "import numpy as np  # Библиотека для работы с массивами чисел\n",
    "import matplotlib.pyplot as plt  # Библиотека для построения графиков\n",
    "%matplotlib inline"
   ]
  },
  {
   "cell_type": "code",
   "execution_count": null,
   "id": "6b97587e",
   "metadata": {
    "pycharm": {
     "name": "#%%\n"
    }
   },
   "outputs": [],
   "source": [
    "plt.style.use([\"science\", \"notebook\", \"grid\", \"high-vis\"])  # Стиль координатной плоскости"
   ]
  },
  {
   "cell_type": "code",
   "execution_count": null,
   "id": "fb27b166",
   "metadata": {
    "pycharm": {
     "name": "#%%\n"
    }
   },
   "outputs": [],
   "source": [
    "# Функция возвращающая значения по данной нам функции\n",
    "def function(x):\n",
    "    return np.cos((np.pi / 6) + x)"
   ]
  },
  {
   "cell_type": "code",
   "execution_count": null,
   "id": "db26c673",
   "metadata": {
    "pycharm": {
     "name": "#%%\n"
    }
   },
   "outputs": [],
   "source": [
    "# Функция возвращающая n-ую производную нашей функции\n",
    "def get_n_derivative(n):\n",
    "    return np.cos((np.pi / 6) + ((np.pi * n) / 2))"
   ]
  },
  {
   "cell_type": "code",
   "execution_count": null,
   "id": "3bda19b8",
   "metadata": {
    "pycharm": {
     "name": "#%%\n"
    }
   },
   "outputs": [],
   "source": [
    "# Функция возвращающая многочлен Тейлора n-ого порядка\n",
    "def taylor_polynom(x, n):\n",
    "    result_sum = 0\n",
    "    for k in range(n + 1):\n",
    "        result_sum += (1 / np.math.factorial(k)) * get_n_derivative(k) * np.power(x, k)\n",
    "    return result_sum"
   ]
  },
  {
   "cell_type": "code",
   "execution_count": null,
   "id": "ef695930",
   "metadata": {
    "pycharm": {
     "name": "#%%\n"
    }
   },
   "outputs": [],
   "source": [
    "X = np.arange(-5, 5 + 1) # Область определения\n",
    "Y = function(X) # Область значений"
   ]
  },
  {
   "cell_type": "code",
   "execution_count": null,
   "id": "d66bb88e",
   "metadata": {
    "pycharm": {
     "name": "#%%\n"
    }
   },
   "outputs": [],
   "source": [
    "plt.figure(figsize=(20, 10))\n",
    "plt.axvline(x=0, lw=2, color=\"black\")  # Построим х=0\n",
    "plt.axhline(y=0, lw=2, color=\"black\")  # Построим у=0\n",
    "plt.xlabel(\"$x$\", fontsize=20)  # Подпишем ось абсцисс\n",
    "plt.ylabel(\"$f(x)$\", fontsize=24)  # Подпишем ось ординат\n",
    "# Построим график основной функции\n",
    "X_main = np.arange(-10, 10 + 1) # Возьмем побольше область определения\n",
    "Y_main = function(X_main)\n",
    "plt.plot(X_main, Y_main, \"o--\", lw=3, ms=8, label=\"Main Function\")\n",
    "plt.legend(loc=\"center left\", bbox_to_anchor=(1, 0.5), edgecolor=\"black\")  # Отобразим легенду графика\n",
    "plt.title(\"Main Function Plot\", fontsize=25, fontweight=\"bold\", verticalalignment=\"center\")\n",
    "plt.show()"
   ]
  },
  {
   "cell_type": "code",
   "execution_count": null,
   "id": "8e8d6807",
   "metadata": {
    "pycharm": {
     "name": "#%%\n"
    }
   },
   "outputs": [],
   "source": [
    "# Функция строящая график основной функции и многочлена Тейлора n-ого порядка\n",
    "def get_nth_Taylor_plot(X_i, Y_i, n, i):\n",
    "    global axes\n",
    "    local_X = np.arange(-5, 5 + 1)\n",
    "    ax_i = axes[i]\n",
    "    ax_i.set_title(f\"Taylor: n = {n}\", fontsize=20)  # Название у графика\n",
    "    \n",
    "    ax_i.set_xlabel(\"x\", fontsize=20)  # Лэйбл по оси Ох\n",
    "    ax_i.set_ylabel(r\"$f(x)$\", fontsize=20)  # Лэйбл по оси Оу\n",
    "    ax_i.axvline(x=0, lw=1, color=\"black\")  # Построим х=0\n",
    "    ax_i.axhline(y=0, lw=1, color=\"black\")  # Построим у=0\n",
    "    ax_i.plot(local_X, function(local_X), label=\"Main Function\") # График основной функции\n",
    "    ax_i.plot(X_i, Y_i, label=f\"Taylor: n = {n}\") # График многочлена Тейлора n-ого порядка\n",
    "    ax_i.set_ylim(-5, 5)\n",
    "    ax_i.legend()"
   ]
  },
  {
   "cell_type": "code",
   "execution_count": null,
   "id": "0102a922",
   "metadata": {
    "pycharm": {
     "name": "#%%\n"
    }
   },
   "outputs": [],
   "source": [
    "fig, axes = plt.subplots(5, constrained_layout=True)\n",
    "fig.suptitle(\"Taylor Polynoms\", fontsize=25, fontweight=\"bold\", verticalalignment=\"center\")\n",
    "fig.set_figwidth(18)\n",
    "fig.set_figheight(30)\n",
    "\n",
    "get_nth_Taylor_plot(X, taylor_polynom(X, 1), 1, 0)\n",
    "\n",
    "get_nth_Taylor_plot(X, taylor_polynom(X, 2), 2, 1)\n",
    "\n",
    "get_nth_Taylor_plot(X, taylor_polynom(X, 3), 3, 2)\n",
    "\n",
    "get_nth_Taylor_plot(X, taylor_polynom(X, 4), 4, 3)\n",
    "\n",
    "get_nth_Taylor_plot(X, taylor_polynom(X, 5), 5, 4)"
   ]
  },
  {
   "cell_type": "code",
   "execution_count": null,
   "id": "d1226c15",
   "metadata": {
    "pycharm": {
     "name": "#%%\n"
    }
   },
   "outputs": [],
   "source": [
    "<p style=\"font-weight: bold; font-size: 18px;\">2. Вычислим приближенные значения $f(a)$</p>"
   ]
  },
  {
   "cell_type": "code",
   "execution_count": null,
   "id": "3a119294",
   "metadata": {
    "pycharm": {
     "name": "#%%\n"
    }
   },
   "outputs": [],
   "source": [
    "a = -0.2"
   ]
  },
  {
   "cell_type": "code",
   "execution_count": null,
   "id": "1a6bf941",
   "metadata": {
    "pycharm": {
     "name": "#%%\n"
    }
   },
   "outputs": [],
   "source": [
    "taylor_polynom(a, 3)"
   ]
  },
  {
   "cell_type": "code",
   "execution_count": null,
   "id": "0fda8b73",
   "metadata": {
    "pycharm": {
     "name": "#%%\n"
    }
   },
   "outputs": [],
   "source": [
    "taylor_polynom(a, 5)"
   ]
  },
  {
   "cell_type": "markdown",
   "id": "10efe805",
   "metadata": {
    "pycharm": {
     "name": "#%% md\n"
    }
   },
   "source": [
    "<p style=\"font-weight: bold; font-size: 18px;\">3. Сравним приближенные значения с точным значением (вычисленным компьютером)</p>"
   ]
  },
  {
   "cell_type": "markdown",
   "id": "a2cc2320",
   "metadata": {
    "pycharm": {
     "name": "#%% md\n"
    }
   },
   "source": [
    "Для полинома 3-ого порядка, точность относительно машинного значения достигает 5 знаков после запятой"
   ]
  },
  {
   "cell_type": "code",
   "execution_count": null,
   "id": "d547f3d5",
   "metadata": {
    "pycharm": {
     "name": "#%%\n"
    }
   },
   "outputs": [],
   "source": [
    "R_n1 = abs(function(a) - taylor_polynom(a, 3))"
   ]
  },
  {
   "cell_type": "markdown",
   "id": "de66297b",
   "metadata": {
    "pycharm": {
     "name": "#%% md\n"
    }
   },
   "source": [
    "Для полинома 5-ого порядка, точность относительно машинного значения достигает 8 знаков после запятой"
   ]
  },
  {
   "cell_type": "code",
   "execution_count": null,
   "id": "e19fe3d4",
   "metadata": {
    "pycharm": {
     "name": "#%%\n"
    }
   },
   "outputs": [],
   "source": [
    "R_n2 = abs(function(a) - taylor_polynom(a, 5))"
   ]
  },
  {
   "cell_type": "markdown",
   "id": "b8723904",
   "metadata": {
    "pycharm": {
     "name": "#%% md\n"
    }
   },
   "source": [
    "<p style=\"font-size:15px\">Убедились что требуемая точность достигнута</p>"
   ]
  },
  {
   "cell_type": "code",
   "execution_count": null,
   "id": "7d2219ee",
   "metadata": {
    "pycharm": {
     "name": "#%%\n"
    }
   },
   "outputs": [],
   "source": [
    "R_n1 < 10**(-3)"
   ]
  },
  {
   "cell_type": "code",
   "execution_count": null,
   "id": "7568035c",
   "metadata": {
    "pycharm": {
     "name": "#%%\n"
    }
   },
   "outputs": [],
   "source": [
    "R_n2 < 10**(-6)"
   ]
  },
  {
   "cell_type": "markdown",
   "source": [
    "Для полинома 5-ого порядка, точность относительно машинного значения достигает 8 знаков после запятой"
   ],
   "metadata": {
    "collapsed": false,
    "pycharm": {
     "name": "#%% md\n"
    }
   }
  },
  {
   "cell_type": "code",
   "execution_count": null,
   "outputs": [],
   "source": [
    "R_n2 = abs(function(a) - taylor_polynom(a, 5))"
   ],
   "metadata": {
    "collapsed": false,
    "pycharm": {
     "name": "#%%\n"
    }
   }
  },
  {
   "cell_type": "markdown",
   "source": [
    "<p style=\"font-size:15px\">Убедились что требуемая точность достигнута</p>"
   ],
   "metadata": {
    "collapsed": false,
    "pycharm": {
     "name": "#%% md\n"
    }
   }
  },
  {
   "cell_type": "code",
   "execution_count": null,
   "outputs": [],
   "source": [
    "R_n1 < 10**(-3)"
   ],
   "metadata": {
    "collapsed": false,
    "pycharm": {
     "name": "#%%\n"
    }
   }
  },
  {
   "cell_type": "code",
   "execution_count": null,
   "outputs": [],
   "source": [
    "R_n2 < 10**(-6)"
   ],
   "metadata": {
    "collapsed": false,
    "pycharm": {
     "name": "#%%\n"
    }
   }
  },
  {
   "cell_type": "markdown",
   "id": "5cb04853",
   "metadata": {
    "pycharm": {
     "name": "#%% md\n"
    }
   },
   "source": [
    "Для полинома 5-ого порядка, точность относительно машинного значения достигает 8 знаков после запятой"
   ]
  },
  {
   "cell_type": "code",
   "execution_count": 99,
   "id": "ad30bcec",
   "metadata": {
    "pycharm": {
     "name": "#%%\n"
    }
   },
   "outputs": [],
   "source": [
    "R_n2 = abs(function(a) - taylor_polynom(a, 5))"
   ]
  },
  {
   "cell_type": "markdown",
   "id": "37ad221a",
   "metadata": {},
   "source": [
    "<p style=\"font-size:15px\">Убедились что требуемая точность достигнута</p>"
   ]
  },
  {
   "cell_type": "code",
   "execution_count": 100,
   "id": "d541a2f4",
   "metadata": {},
   "outputs": [
    {
     "data": {
      "text/plain": [
       "True"
      ]
     },
     "execution_count": 100,
     "metadata": {},
     "output_type": "execute_result"
    }
   ],
   "source": [
    "R_n1 < 10**(-3)"
   ]
  },
  {
   "cell_type": "code",
   "execution_count": 101,
   "id": "8d1d935a",
   "metadata": {},
   "outputs": [
    {
     "data": {
      "text/plain": [
       "True"
      ]
     },
     "execution_count": 101,
     "metadata": {},
     "output_type": "execute_result"
    }
   ],
   "source": [
    "R_n2 < 10**(-6)"
   ]
  }
 ],
 "metadata": {
  "kernelspec": {
   "display_name": "Python 3 (ipykernel)",
   "language": "python",
   "name": "python3"
  },
  "language_info": {
   "codemirror_mode": {
    "name": "ipython",
    "version": 3
   },
   "file_extension": ".py",
   "mimetype": "text/x-python",
   "name": "python",
   "nbconvert_exporter": "python",
   "pygments_lexer": "ipython3",
   "version": "3.10.2"
  }
 },
 "nbformat": 4,
 "nbformat_minor": 5
}