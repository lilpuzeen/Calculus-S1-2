{
 "cells": [
  {
   "cell_type": "markdown",
   "id": "9dbcea41",
   "metadata": {
    "pycharm": {
     "name": "#%% md\n"
    }
   },
   "source": [
    "<h1 style=\"text-align:center\"> Лабораторная работа №2 </h1>\n",
    "<h3 style=\"text-align:center\"> Вариант №31 </h3>\n",
    "<h3 style=\"text-align:center\">Товмасян Арман М3132</h3>"
   ]
  },
  {
   "cell_type": "markdown",
   "id": "2b33b460",
   "metadata": {
    "pycharm": {
     "name": "#%% md\n"
    }
   },
   "source": [
    "### Функция:\n",
    "$${\\normalsize f(x) = \\cos\\left({\\frac{\\pi}{6}} + x \\right)}$$"
   ]
  },
  {
   "cell_type": "markdown",
   "id": "67462dbd",
   "metadata": {
    "pycharm": {
     "name": "#%% md\n"
    }
   },
   "source": [
    "<h2 style=\"text-align:center\">Аналитический Метод</h2>"
   ]
  },
  {
   "cell_type": "markdown",
   "id": "dac8ceeb",
   "metadata": {
    "pycharm": {
     "name": "#%% md\n"
    }
   },
   "source": [
    "<p style=\"font-weight: bold; font-size: 18px;\">1. Получим формулу производной n-ого порядка для $f(x)$</p>"
   ]
  },
  {
   "cell_type": "markdown",
   "id": "77371d7e",
   "metadata": {},
   "source": [
    "<p style=\"font-size:15px\">Для начала найдем первые 4 производные</p>"
   ]
  },
  {
   "cell_type": "markdown",
   "id": "8f5b803f",
   "metadata": {},
   "source": [
    "$${\\normalsize f'(x) = -\\sin\\left({\\frac{\\pi}{6} + x }\\right) = \\cos\\left({\\frac{\\pi}{6}} + x + \\frac{\\pi}{2} \\right)}$$"
   ]
  },
  {
   "cell_type": "markdown",
   "id": "ad2752f2",
   "metadata": {},
   "source": [
    "$${\\normalsize f''(x) = -\\cos\\left({\\frac{\\pi}{6} + x }\\right) = \\cos\\left({\\frac{\\pi}{6}} + x + \\pi \\right)}$$"
   ]
  },
  {
   "cell_type": "markdown",
   "id": "b5c1105f",
   "metadata": {},
   "source": [
    "$${\\normalsize f'''(x) = \\sin\\left({\\frac{\\pi}{6} + x }\\right) = \\cos\\left({\\frac{\\pi}{6}} + x + \\frac{3 \\pi}{2} \\right)}$$"
   ]
  },
  {
   "cell_type": "markdown",
   "id": "62a20bc9",
   "metadata": {},
   "source": [
    "$${\\normalsize f^4(x) = \\cos\\left({\\frac{\\pi}{6} + x }\\right) = \\cos\\left({\\frac{\\pi}{6}} + x + 2 \\pi \\right)}$$\n",
    "<hr>"
   ]
  },
  {
   "cell_type": "markdown",
   "id": "746779a5",
   "metadata": {},
   "source": [
    "<p style=\"font-size:16px; text-align:center; font-weight: bold\">Докажем, что ${\\normalsize f^{(n)}(x) = \\cos\\left({\\frac{\\pi}{6} + x + \\frac{\\pi n}{2}}\\right)}$ индукцией по $n$</p>"
   ]
  },
  {
   "cell_type": "markdown",
   "source": [
    "<p style=\"font-size:15px\">Пусть $n = 1$:</p>"
   ],
   "metadata": {
    "collapsed": false,
    "pycharm": {
     "name": "#%% md\n"
    }
   }
  },
  {
   "cell_type": "markdown",
   "source": [
    "$${\\normalsize f'(x) = -\\sin\\left({\\frac{\\pi}{6} + x }\\right) = \\cos\\left({\\frac{\\pi}{6}} + x + \\frac{\\pi}{2} \\right)}$$ \n",
    "<p style=\"font-size:15px; text-align:center\">Истина</p>"
   ],
   "metadata": {
    "collapsed": false,
    "pycharm": {
     "name": "#%% md\n"
    }
   }
  },
  {
   "cell_type": "markdown",
   "source": [
    "<p style=\"font-size:15px\">Пусть для $n = m$ истина. Докажем для случая $n = m + 1$</p>"
   ],
   "metadata": {
    "collapsed": false,
    "pycharm": {
     "name": "#%% md\n"
    }
   }
  },
  {
   "cell_type": "markdown",
   "source": [
    "$${\\normalsize f^{(m + 1)}(x) = (f^{(m)}(x))' = \\left(\\cos\\left({\\frac{\\pi}{6} + x + \\frac{\\pi m}{2}}\\right)\\right)' = }$$"
   ],
   "metadata": {
    "collapsed": false,
    "pycharm": {
     "name": "#%% md\n"
    }
   }
  },
  {
   "cell_type": "markdown",
   "source": [
    "$${\\normalsize = -\\sin\\left({\\frac{\\pi}{6} + x + \\frac{\\pi m}{2}}\\right) = \\cos\\left({\\frac{\\pi}{6} + x + \\frac{\\pi m}{2}} + \\frac{\\pi}{2} \\right) = }$$"
   ],
   "metadata": {
    "collapsed": false,
    "pycharm": {
     "name": "#%% md\n"
    }
   }
  },
  {
   "cell_type": "markdown",
   "source": [
    "$${\\normalsize = \\cos\\left({\\frac{\\pi}{6} + x + \\frac{\\pi (m + 1)}{2}}\\right)}$$"
   ],
   "metadata": {
    "collapsed": false,
    "pycharm": {
     "name": "#%% md\n"
    }
   }
  },
  {
   "cell_type": "markdown",
   "source": [
    "<p style=\"font-size:15px; text-align: center\">Что является также истиной</p>\n",
    "<hr>"
   ],
   "metadata": {
    "collapsed": false,
    "pycharm": {
     "name": "#%% md\n"
    }
   }
  },
  {
   "cell_type": "markdown",
   "source": [
    "<p style=\"font-weight: bold; font-size: 18px;\">2. Распишем многочлен Тейлора n-ого порядка по степеням x</p>"
   ],
   "metadata": {
    "collapsed": false,
    "pycharm": {
     "name": "#%% md\n"
    }
   }
  },
  {
   "cell_type": "markdown",
   "source": [
    "<p style=\"font-size:15px\">По формуле Тейлора:</p>"
   ],
   "metadata": {
    "collapsed": false,
    "pycharm": {
     "name": "#%% md\n"
    }
   }
  },
  {
   "cell_type": "markdown",
   "source": [
    "$${\\normalsize P_n(x) = \\sum_{k = 0}^n \\frac{f^k(x_0)\\,(x - x_0)^k}{k!}}$$"
   ],
   "metadata": {
    "collapsed": false,
    "pycharm": {
     "name": "#%% md\n"
    }
   }
  },
  {
   "cell_type": "markdown",
   "source": [
    "<p style=\"font-size:15px\">Для нашей функции имеем многочлен Тейлора порядка $n$ вида:</p>"
   ],
   "metadata": {
    "collapsed": false,
    "pycharm": {
     "name": "#%% md\n"
    }
   }
  },
  {
   "cell_type": "markdown",
   "source": [
    "$${\\normalsize P_n(x) = \\sum_{k = 0}^n \\frac{1}{k!}\\, \\cos\\left({\\frac{\\pi}{6} + \\frac{\\pi k}{2}}\\right)\\,x^k}$$\n",
    "<hr>"
   ],
   "metadata": {
    "collapsed": false,
    "pycharm": {
     "name": "#%% md\n"
    }
   }
  },
  {
   "cell_type": "markdown",
   "source": [
    "<p style=\"font-weight: bold; font-size: 18px;\">3. Выведем многочлен Тейлора n-ого порядка и сравним с П.2</p>"
   ],
   "metadata": {
    "collapsed": false,
    "pycharm": {
     "name": "#%% md\n"
    }
   }
  },
  {
   "cell_type": "markdown",
   "source": [
    "$${\\normalsize \\cos\\left({\\frac{\\pi}{6} + x}\\right) = \\cos\\left({\\frac{\\pi}{6}}\\right)\\cos\\left({x}\\right) - \\sin\\left({\\frac{\\pi}{6}}\\right)\\sin\\left({x}\\right) = \\frac{\\sqrt{3}}{2}\\cos\\left({x}\\right) - \\frac{1}{2}\\sin\\left({x}\\right) = }$$"
   ],
   "metadata": {
    "collapsed": false,
    "pycharm": {
     "name": "#%% md\n"
    }
   }
  },
  {
   "cell_type": "markdown",
   "source": [
    "$${\\normalsize = \\frac{\\sqrt{3}}{2}\\sum_{k=0}^n \\frac{(-1)^k \\cdot x^{2k}}{(2k)!} - \\frac{1}{2}\\sum_{k=0}^n \\frac{(-1)^k \\cdot x^{(2k + 1)}}{(2k + 1)!} = (*)}$$"
   ],
   "metadata": {
    "collapsed": false,
    "pycharm": {
     "name": "#%% md\n"
    }
   }
  },
  {
   "cell_type": "markdown",
   "source": [
    "<p style=\"font-size:15px\">Однако заметим что</p>"
   ],
   "metadata": {
    "collapsed": false,
    "pycharm": {
     "name": "#%% md\n"
    }
   }
  },
  {
   "cell_type": "markdown",
   "source": [
    "$${\\normalsize\\frac{\\sqrt{3}}{2} \\cdot (-1)^k = \\cos\\left({\\frac{\\pi}{6} + \\frac{\\pi\\, (2k)}{2}}\\right)}$$"
   ],
   "metadata": {
    "collapsed": false,
    "pycharm": {
     "name": "#%% md\n"
    }
   }
  },
  {
   "cell_type": "markdown",
   "source": [
    "$${\\normalsize-\\frac{1}{2} \\cdot (-1)^k = \\cos\\left({\\frac{\\pi}{6} + \\frac{\\pi\\, (2k + 1)}{2}}\\right)}$$\n",
    "<br>"
   ],
   "metadata": {
    "collapsed": false,
    "pycharm": {
     "name": "#%% md\n"
    }
   }
  },
  {
   "cell_type": "markdown",
   "source": [
    "$${\\normalsize (*) = \\sum_{k=0}^n \\cos\\left({\\frac{\\pi}{6} + \\frac{\\pi\\, (2k)}{2}}\\right) \\cdot \\frac{x^{2k}}{(2k)!} + \\sum_{k=0}^n \\cos\\left({\\frac{\\pi}{6} + \\frac{\\pi\\, (2k + 1)}{2}}\\right) \\cdot \\frac{x^{(2k + 1)}}{(2k + 1)!} =}$$"
   ],
   "metadata": {
    "collapsed": false,
    "pycharm": {
     "name": "#%% md\n"
    }
   }
  },
  {
   "cell_type": "markdown",
   "source": [
    "$${\\normalsize = \\sum_{k=0}^n \\cos\\left({\\frac{\\pi}{6} + \\frac{\\pi k}{2}}\\right) \\cdot \\frac{x^k}{k!}}$$"
   ],
   "metadata": {
    "collapsed": false,
    "pycharm": {
     "name": "#%% md\n"
    }
   }
  },
  {
   "cell_type": "markdown",
   "source": [
    "<p style=\"font-size:15px; text-align:center\">Получили тоже самое что и в П.2</p>\n",
    "<hr>"
   ],
   "metadata": {
    "collapsed": false,
    "pycharm": {
     "name": "#%% md\n"
    }
   }
  },
  {
   "cell_type": "markdown",
   "source": [
    "<p style=\"font-weight: bold; font-size: 18px;\">4. Оценим остаточный член формулы Тейлора</p>"
   ],
   "metadata": {
    "collapsed": false,
    "pycharm": {
     "name": "#%% md\n"
    }
   }
  },
  {
   "cell_type": "markdown",
   "source": [
    "<p style=\"font-size:15px\">Используем остаточный член формулы Тейлора в форме Лагранжа</p>"
   ],
   "metadata": {
    "collapsed": false,
    "pycharm": {
     "name": "#%% md\n"
    }
   }
  },
  {
   "cell_type": "markdown",
   "source": [
    "$${\\normalsize R_n(x, x_0) = \\frac{f^{(n + 1)}(\\xi) \\cdot (x - x_0)^{n + 1}}{(n + 1)!}}$$"
   ],
   "metadata": {
    "collapsed": false,
    "pycharm": {
     "name": "#%% md\n"
    }
   }
  },
  {
   "cell_type": "markdown",
   "source": [
    "<p style=\"font-size:15px\">Имеем следующие данные:</p>"
   ],
   "metadata": {
    "collapsed": false,
    "pycharm": {
     "name": "#%% md\n"
    }
   }
  },
  {
   "cell_type": "markdown",
   "source": [
    "$${\\normalsize f(x) = \\cos\\left({\\frac{\\pi}{6}} + x \\right)}$$"
   ],
   "metadata": {
    "collapsed": false,
    "pycharm": {
     "name": "#%% md\n"
    }
   }
  },
  {
   "cell_type": "markdown",
   "source": [
    "$${\\normalsize a = -0.2 \\quad \\Delta_1 = 10^{-3} \\quad \\Delta_2 = 10^{-6} \\quad x_0 = 0 \\quad x = a \\quad \\xi \\in (0, a)}$$"
   ],
   "metadata": {
    "collapsed": false,
    "pycharm": {
     "name": "#%% md\n"
    }
   }
  },
  {
   "cell_type": "markdown",
   "source": [
    "<p style=\"font-size:15px\">Тогда</p>"
   ],
   "metadata": {
    "collapsed": false,
    "pycharm": {
     "name": "#%% md\n"
    }
   }
  },
  {
   "cell_type": "markdown",
   "source": [
    "$${\\normalsize f^{(n + 1)}(\\xi) = \\cos\\left({\\frac{\\pi}{6} + \\xi + \\frac{\\pi\\, (n + 1)}{2}}\\right)}$$"
   ],
   "metadata": {
    "collapsed": false,
    "pycharm": {
     "name": "#%% md\n"
    }
   }
  },
  {
   "cell_type": "markdown",
   "source": [
    "<p style=\"font-size:15px\">Оценим для ${\\normalsize R_n(a) < \\Delta_1}$</p>"
   ],
   "metadata": {
    "collapsed": false,
    "pycharm": {
     "name": "#%% md\n"
    }
   }
  },
  {
   "cell_type": "markdown",
   "source": [
    "$${\\normalsize \\left|\\,\\cos\\left({\\frac{\\pi}{6} + \\xi + \\frac{\\pi\\, (n + 1)}{2}}\\right) \\cdot \\frac{a^{(n+1)}}{(n+1)!}\\, \\right| \\le (*)}$$"
   ],
   "metadata": {
    "collapsed": false,
    "pycharm": {
     "name": "#%% md\n"
    }
   }
  },
  {
   "cell_type": "markdown",
   "source": [
    "<p style=\"font-size:15px\">Учитывая что</p>"
   ],
   "metadata": {
    "collapsed": false,
    "pycharm": {
     "name": "#%% md\n"
    }
   }
  },
  {
   "cell_type": "markdown",
   "source": [
    "$${\\normalsize \\cos\\left({\\frac{\\pi}{6} + \\xi + \\frac{\\pi\\, (n + 1)}{2}}\\right) \\le 1 \\quad |a^{(n+1)}| \\le 0.2 \\Rightarrow}$$"
   ],
   "metadata": {
    "collapsed": false,
    "pycharm": {
     "name": "#%% md\n"
    }
   }
  },
  {
   "cell_type": "markdown",
   "source": [
    "$${\\normalsize \\Rightarrow (*) \\le \\frac{1}{2(n+1)!} \\lt \\frac{1}{10^3}}$$"
   ],
   "metadata": {
    "collapsed": false,
    "pycharm": {
     "name": "#%% md\n"
    }
   }
  },
  {
   "cell_type": "markdown",
   "source": [
    "<p style=\"font-size:15px\">Получим</p>"
   ],
   "metadata": {
    "collapsed": false,
    "pycharm": {
     "name": "#%% md\n"
    }
   }
  },
  {
   "cell_type": "markdown",
   "source": [
    "$${\\normalsize 2\\,(n+1)! \\gt 10^3 \\Rightarrow n_1 = 5}$$"
   ],
   "metadata": {
    "collapsed": false,
    "pycharm": {
     "name": "#%% md\n"
    }
   }
  },
  {
   "cell_type": "markdown",
   "source": [
    "<p style=\"font-size:15px\">Аналогично для $\\Delta_2$</p>"
   ],
   "metadata": {
    "collapsed": false,
    "pycharm": {
     "name": "#%% md\n"
    }
   }
  },
  {
   "cell_type": "markdown",
   "source": [
    "$${\\normalsize 2\\,(n+1)! > 10^6 \\Rightarrow n_2 = 9}$$"
   ],
   "metadata": {
    "collapsed": false,
    "pycharm": {
     "name": "#%% md\n"
    }
   }
  },
  {
   "cell_type": "markdown",
   "source": [
    "<p style=\"font-size:15px\">Получим:</p>"
   ],
   "metadata": {
    "collapsed": false,
    "pycharm": {
     "name": "#%% md\n"
    }
   }
  },
  {
   "cell_type": "markdown",
   "source": [
    "$${\\normalsize n_1 = 5 \\quad n_2 = 9}$$"
   ],
   "metadata": {
    "collapsed": false,
    "pycharm": {
     "name": "#%% md\n"
    }
   }
  },
  {
   "cell_type": "markdown",
   "source": [
    "<h2 style=\"text-align:center\">Численный Метод</h2>"
   ],
   "metadata": {
    "collapsed": false,
    "pycharm": {
     "name": "#%% md\n"
    }
   }
  },
  {
   "cell_type": "markdown",
   "source": [
    "<p style=\"font-weight: bold; font-size: 18px;\">1. Построим графики $f(x)$ и многочленов Тейлора $1, 2, \\ldots n_2$</p>"
   ],
   "metadata": {
    "collapsed": false,
    "pycharm": {
     "name": "#%% md\n"
    }
   }
  },
  {
   "cell_type": "code",
   "execution_count": null,
   "outputs": [],
   "source": [
    "import numpy as np  # Библиотека для работы с массивами чисел\n",
    "import matplotlib.pyplot as plt  # Библиотека для построения графиков\n",
    "%matplotlib inline"
   ],
   "metadata": {
    "collapsed": false,
    "pycharm": {
     "name": "#%%\n"
    }
   }
  },
  {
   "cell_type": "code",
   "execution_count": null,
   "outputs": [],
   "source": [
    "plt.style.use([\"science\", \"notebook\", \"grid\", \"high-vis\"])  # Стиль координатной плоскости"
   ],
   "metadata": {
    "collapsed": false,
    "pycharm": {
     "name": "#%%\n"
    }
   }
  },
  {
   "cell_type": "code",
   "execution_count": null,
   "outputs": [],
   "source": [
    "# Функция возвращающая значения по данной нам функции\n",
    "def function(x):\n",
    "    return np.cos((np.pi / 6) + x)"
   ],
   "metadata": {
    "collapsed": false,
    "pycharm": {
     "name": "#%%\n"
    }
   }
  },
  {
   "cell_type": "code",
   "execution_count": null,
   "outputs": [],
   "source": [
    "# Функция возвращающая n-ую производную нашей функции\n",
    "def get_n_derivative(n):\n",
    "    return np.cos((np.pi / 6) + ((np.pi * n) / 2))"
   ],
   "metadata": {
    "collapsed": false,
    "pycharm": {
     "name": "#%%\n"
    }
   }
  },
  {
   "cell_type": "code",
   "execution_count": null,
   "outputs": [],
   "source": [
    "# Функция возвращающая многочлен Тейлора n-ого порядка\n",
    "def taylor_polynom(x, n):\n",
    "    result_sum = 0\n",
    "    for k in range(n + 1):\n",
    "        result_sum += (1 / np.math.factorial(k)) * get_n_derivative(k) * np.power(x, k)\n",
    "    return result_sum"
   ],
   "metadata": {
    "collapsed": false,
    "pycharm": {
     "name": "#%%\n"
    }
   }
  },
  {
   "cell_type": "code",
   "execution_count": null,
   "outputs": [],
   "source": [
    "X = np.arange(-5, 5 + 1) # Область определения\n",
    "Y = function(X) # Область значений"
   ],
   "metadata": {
    "collapsed": false,
    "pycharm": {
     "name": "#%%\n"
    }
   }
  },
  {
   "cell_type": "code",
   "execution_count": null,
   "outputs": [],
   "source": [
    "plt.figure(figsize=(20, 10))\n",
    "plt.axvline(x=0, lw=2, color=\"black\")  # Построим х=0\n",
    "plt.axhline(y=0, lw=2, color=\"black\")  # Построим у=0\n",
    "plt.xlabel(\"$x$\", fontsize=20)  # Подпишем ось абсцисс\n",
    "plt.ylabel(\"$f(x)$\", fontsize=24)  # Подпишем ось ординат\n",
    "# Построим график основной функции\n",
    "X_main = np.arange(-10, 10 + 1) # Возьмем побольше область определения\n",
    "Y_main = function(X_main)\n",
    "plt.plot(X_main, Y_main, \"o--\", lw=3, ms=8, label=\"Main Function\")\n",
    "plt.legend(loc=\"center left\", bbox_to_anchor=(1, 0.5), edgecolor=\"black\")  # Отобразим легенду графика\n",
    "plt.title(\"Main Function Plot\", fontsize=25, fontweight=\"bold\", verticalalignment=\"center\")\n",
    "plt.show()"
   ],
   "metadata": {
    "collapsed": false,
    "pycharm": {
     "name": "#%%\n"
    }
   }
  },
  {
   "cell_type": "code",
   "execution_count": null,
   "outputs": [],
   "source": [
    "# Функция строящая график основной функции и многочлена Тейлора n-ого порядка\n",
    "def get_nth_Taylor_plot(X_i, Y_i, n, i, j):\n",
    "    global axes\n",
    "    local_X = np.arange(-5, 5 + 1)\n",
    "    ax_i = axes[i][j]\n",
    "    ax_i.set_title(f\"Taylor: n = {n}\", fontsize=20)  # Название у графика\n",
    "    \n",
    "    ax_i.set_xlabel(\"x\", fontsize=20)  # Лэйбл по оси Ох\n",
    "    ax_i.set_ylabel(r\"$f(x)$\", fontsize=20)  # Лэйбл по оси Оу\n",
    "    ax_i.axvline(x=0, lw=1, color=\"black\")  # Построим х=0\n",
    "    ax_i.axhline(y=0, lw=1, color=\"black\")  # Построим у=0\n",
    "    ax_i.plot(local_X, function(local_X), label=\"Main Function\") # График основной функции\n",
    "    ax_i.plot(X_i, Y_i, label=f\"Taylor: n = {n}\") # График многочлена Тейлора n-ого порядка\n",
    "    ax_i.legend()"
   ],
   "metadata": {
    "collapsed": false,
    "pycharm": {
     "name": "#%%\n"
    }
   }
  },
  {
   "cell_type": "code",
   "execution_count": null,
   "outputs": [],
   "source": [
    "fig, axes = plt.subplots(3, 3, figsize=(20, 15), constrained_layout=True)\n",
    "fig.suptitle(\"Taylor Polynoms\", fontsize=25, fontweight=\"bold\", verticalalignment=\"center\")\n",
    "\n",
    "get_nth_Taylor_plot(X, taylor_polynom(X, 1), 1, 0, 0)\n",
    "\n",
    "get_nth_Taylor_plot(X, taylor_polynom(X, 2), 2, 0, 1)\n",
    "\n",
    "get_nth_Taylor_plot(X, taylor_polynom(X, 3), 3, 0, 2)\n",
    "\n",
    "get_nth_Taylor_plot(X, taylor_polynom(X, 4), 4, 1, 0)\n",
    "\n",
    "get_nth_Taylor_plot(X, taylor_polynom(X, 5), 5, 1, 1)\n",
    "\n",
    "get_nth_Taylor_plot(X, taylor_polynom(X, 6), 6, 1, 2)\n",
    "\n",
    "get_nth_Taylor_plot(X, taylor_polynom(X, 7), 7, 2, 0)\n",
    "\n",
    "get_nth_Taylor_plot(X, taylor_polynom(X, 8), 8, 2, 1)\n",
    "\n",
    "get_nth_Taylor_plot(X, taylor_polynom(X, 9), 9, 2, 2)"
   ],
   "metadata": {
    "collapsed": false,
    "pycharm": {
     "name": "#%%\n"
    }
   }
  },
  {
   "cell_type": "code",
   "execution_count": null,
   "outputs": [],
   "source": [
    "<p style=\"font-weight: bold; font-size: 18px;\">2. Вычислим приближенные значения $f(a)$</p>"
   ],
   "metadata": {
    "collapsed": false,
    "pycharm": {
     "name": "#%%\n"
    }
   }
  },
  {
   "cell_type": "code",
   "execution_count": null,
   "outputs": [],
   "source": [
    "a = -0.2"
   ],
   "metadata": {
    "collapsed": false,
    "pycharm": {
     "name": "#%%\n"
    }
   }
  },
  {
   "cell_type": "code",
   "execution_count": null,
   "outputs": [],
   "source": [
    "taylor_polynom(a, 5)"
   ],
   "metadata": {
    "collapsed": false,
    "pycharm": {
     "name": "#%%\n"
    }
   }
  },
  {
   "cell_type": "code",
   "execution_count": null,
   "outputs": [],
   "source": [
    "taylor_polynom(a, 9)"
   ],
   "metadata": {
    "collapsed": false,
    "pycharm": {
     "name": "#%%\n"
    }
   }
  },
  {
   "cell_type": "markdown",
   "source": [
    "<p style=\"font-weight: bold; font-size: 18px;\">3. Сравним приближенные значения с точным значением (вычисленным компьютером)</p>"
   ],
   "metadata": {
    "collapsed": false,
    "pycharm": {
     "name": "#%% md\n"
    }
   }
  },
  {
   "cell_type": "markdown",
   "source": [
    "Для полинома 5-ого порядка, точность относительно машинного значения достигает 8 знаков после запятой"
   ],
   "metadata": {
    "collapsed": false,
    "pycharm": {
     "name": "#%% md\n"
    }
   }
  },
  {
   "cell_type": "code",
   "execution_count": null,
   "outputs": [],
   "source": [
    "function(a) - taylor_polynom(a, 5)"
   ],
   "metadata": {
    "collapsed": false,
    "pycharm": {
     "name": "#%%\n"
    }
   }
  },
  {
   "cell_type": "markdown",
   "source": [
    "Для полинома 9-ого порядка, точность относительно машинного значения достигает 14 знаков после запятой"
   ],
   "metadata": {
    "collapsed": false,
    "pycharm": {
     "name": "#%% md\n"
    }
   }
  },
  {
   "cell_type": "code",
   "execution_count": null,
   "outputs": [],
   "source": [
    "function(a) - taylor_polynom(a, 9)"
   ],
   "metadata": {
    "collapsed": false,
    "pycharm": {
     "name": "#%%\n"
    }
   }
  },
  {
   "cell_type": "code",
   "execution_count": 173,
   "id": "b6da9d74",
   "metadata": {},
   "outputs": [
    {
     "data": {
      "text/plain": [
       "0.9480972192081496"
      ]
     },
     "execution_count": 173,
     "metadata": {},
     "output_type": "execute_result"
    }
   ],
   "source": [
    "taylor_polynom(a, 9)"
   ]
  },
  {
   "cell_type": "markdown",
   "id": "ad89b939",
   "metadata": {},
   "source": [
    "<p style=\"font-weight: bold; font-size: 18px;\">3. Сравним приближенные значения с точным значением (вычисленным компьютером)</p>"
   ]
  },
  {
   "cell_type": "markdown",
   "id": "6e6ea4cb",
   "metadata": {},
   "source": [
    "Для полинома 5-ого порядка, точность относительно машинного значения достигает 8 знаков после запятой"
   ]
  },
  {
   "cell_type": "code",
   "execution_count": 174,
   "id": "e8db7f6a",
   "metadata": {
    "scrolled": true
   },
   "outputs": [
    {
     "data": {
      "text/plain": [
       "-7.819421066201926e-08"
      ]
     },
     "execution_count": 174,
     "metadata": {},
     "output_type": "execute_result"
    }
   ],
   "source": [
    "function(a) - taylor_polynom(a, 5)"
   ]
  },
  {
   "cell_type": "markdown",
   "id": "65161dff",
   "metadata": {},
   "source": [
    "Для полинома 9-ого порядка, точность относительно машинного значения достигает 14 знаков после запятой"
   ]
  },
  {
   "cell_type": "code",
   "execution_count": 175,
   "id": "06144f11",
   "metadata": {},
   "outputs": [
    {
     "data": {
      "text/plain": [
       "-2.475797344914099e-14"
      ]
     },
     "execution_count": 175,
     "metadata": {},
     "output_type": "execute_result"
    }
   ],
   "source": [
    "function(a) - taylor_polynom(a, 9)"
   ]
  }
 ],
 "metadata": {
  "kernelspec": {
   "display_name": "Python 3 (ipykernel)",
   "language": "python",
   "name": "python3"
  },
  "language_info": {
   "codemirror_mode": {
    "name": "ipython",
    "version": 3
   },
   "file_extension": ".py",
   "mimetype": "text/x-python",
   "name": "python",
   "nbconvert_exporter": "python",
   "pygments_lexer": "ipython3",
   "version": "3.10.2"
  }
 },
 "nbformat": 4,
 "nbformat_minor": 5
}