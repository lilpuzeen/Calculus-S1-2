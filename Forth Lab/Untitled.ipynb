{
 "cells": [
  {
   "cell_type": "markdown",
   "id": "0dcfbc8a",
   "metadata": {},
   "source": [
    "<h1 style=\"text-align:center\"> Лабораторная работа №4 </h1>\n",
    "<h3 style=\"text-align:center\"> Вариант №27 </h3>\n",
    "<h3 style=\"text-align:center\">Товмасян Арман М3132</h3>"
   ]
  },
  {
   "cell_type": "markdown",
   "id": "eb7c15b1",
   "metadata": {},
   "source": [
    "    f(x)= \n",
    "\\begin{cases}\n",
    "    0,& \\text{if } x\\in [0, 1)\\\\\n",
    "    2 - x, & \\text{if } x \\in [1, 2]\n",
    "\\end{cases}"
   ]
  },
  {
   "cell_type": "code",
   "execution_count": null,
   "id": "4ee95f54",
   "metadata": {},
   "outputs": [],
   "source": []
  }
 ],
 "metadata": {
  "kernelspec": {
   "display_name": "Python 3 (ipykernel)",
   "language": "python",
   "name": "python3"
  },
  "language_info": {
   "codemirror_mode": {
    "name": "ipython",
    "version": 3
   },
   "file_extension": ".py",
   "mimetype": "text/x-python",
   "name": "python",
   "nbconvert_exporter": "python",
   "pygments_lexer": "ipython3",
   "version": "3.10.2"
  }
 },
 "nbformat": 4,
 "nbformat_minor": 5
}
