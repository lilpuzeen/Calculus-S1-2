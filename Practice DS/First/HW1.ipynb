{
 "cells": [
  {
   "cell_type": "markdown",
   "metadata": {
    "id": "lhZ6B_EXPtOB",
    "pycharm": {
     "name": "#%% md\n"
    }
   },
   "source": [
    "# Исследуйте, как различные факторы влияют на красоту человека (красота измеряется по шкале от 1 до 5).\n",
    "\n",
    "В данном датасете необходимо предсказывать столбец `looks`"
   ]
  },
  {
   "cell_type": "code",
   "execution_count": 1,
   "metadata": {
    "id": "J-SJm8jVPtOF",
    "pycharm": {
     "name": "#%%\n"
    }
   },
   "outputs": [],
   "source": [
    "import numpy as np\n",
    "import pandas as pd\n",
    "import seaborn as sns\n",
    "import matplotlib.pyplot as plt"
   ]
  },
  {
   "cell_type": "markdown",
   "metadata": {
    "id": "kbTM0p5TPtOH",
    "pycharm": {
     "name": "#%% md\n"
    }
   },
   "source": [
    "### Загрузите файл Beauty.csv.\n",
    "\n",
    "Столбец looks - это красота человека."
   ]
  },
  {
   "cell_type": "code",
   "execution_count": 4,
   "metadata": {
    "id": "LdEllXlNPtOH",
    "pycharm": {
     "name": "#%%\n"
    }
   },
   "outputs": [
    {
     "data": {
      "text/plain": "              wage        exper         educ        looks\ncount  1260.000000  1260.000000  1260.000000  1260.000000\nmean      6.306690    18.206349    12.563492     3.185714\nstd       4.660639    11.963485     2.624489     0.684877\nmin       1.020000     0.000000     5.000000     1.000000\n25%       3.707500     8.000000    12.000000     3.000000\n50%       5.300000    15.000000    12.000000     3.000000\n75%       7.695000    27.000000    13.000000     4.000000\nmax      77.720001    48.000000    17.000000     5.000000",
      "text/html": "<div>\n<style scoped>\n    .dataframe tbody tr th:only-of-type {\n        vertical-align: middle;\n    }\n\n    .dataframe tbody tr th {\n        vertical-align: top;\n    }\n\n    .dataframe thead th {\n        text-align: right;\n    }\n</style>\n<table border=\"1\" class=\"dataframe\">\n  <thead>\n    <tr style=\"text-align: right;\">\n      <th></th>\n      <th>wage</th>\n      <th>exper</th>\n      <th>educ</th>\n      <th>looks</th>\n    </tr>\n  </thead>\n  <tbody>\n    <tr>\n      <th>count</th>\n      <td>1260.000000</td>\n      <td>1260.000000</td>\n      <td>1260.000000</td>\n      <td>1260.000000</td>\n    </tr>\n    <tr>\n      <th>mean</th>\n      <td>6.306690</td>\n      <td>18.206349</td>\n      <td>12.563492</td>\n      <td>3.185714</td>\n    </tr>\n    <tr>\n      <th>std</th>\n      <td>4.660639</td>\n      <td>11.963485</td>\n      <td>2.624489</td>\n      <td>0.684877</td>\n    </tr>\n    <tr>\n      <th>min</th>\n      <td>1.020000</td>\n      <td>0.000000</td>\n      <td>5.000000</td>\n      <td>1.000000</td>\n    </tr>\n    <tr>\n      <th>25%</th>\n      <td>3.707500</td>\n      <td>8.000000</td>\n      <td>12.000000</td>\n      <td>3.000000</td>\n    </tr>\n    <tr>\n      <th>50%</th>\n      <td>5.300000</td>\n      <td>15.000000</td>\n      <td>12.000000</td>\n      <td>3.000000</td>\n    </tr>\n    <tr>\n      <th>75%</th>\n      <td>7.695000</td>\n      <td>27.000000</td>\n      <td>13.000000</td>\n      <td>4.000000</td>\n    </tr>\n    <tr>\n      <th>max</th>\n      <td>77.720001</td>\n      <td>48.000000</td>\n      <td>17.000000</td>\n      <td>5.000000</td>\n    </tr>\n  </tbody>\n</table>\n</div>"
     },
     "execution_count": 4,
     "metadata": {},
     "output_type": "execute_result"
    }
   ],
   "source": [
    "df = pd.read_csv(\"beauty.csv\")\n",
    "df.describe()"
   ]
  },
  {
   "cell_type": "markdown",
   "metadata": {
    "id": "IZ2vrzGrPtOH",
    "pycharm": {
     "name": "#%% md\n"
    }
   },
   "source": [
    "## Проведите однофакторный анализ\n",
    "\n",
    "А именно, исследуйте влияние каждого фактора в отдельности на красоту человека.\n",
    "\n",
    "Исследование проводите по аналогии с исследованием в ноутбуке Seminar1.ipynb."
   ]
  },
  {
   "cell_type": "code",
   "execution_count": 6,
   "metadata": {
    "id": "AaqyMdyGPtOI",
    "pycharm": {
     "name": "#%%\n"
    }
   },
   "outputs": [
    {
     "data": {
      "text/plain": "<Figure size 432x288 with 1 Axes>",
      "image/png": "[encoded data removed]"
     },
     "metadata": {},
     "output_type": "display_data"
    }
   ],
   "source": [
    "x = np.arange(100)#your code here\n",
    "y = np.arange(100)#your code here\n",
    "plot = plt.plot(x, y)"
   ]
  },
  {
   "cell_type": "markdown",
   "metadata": {
    "id": "RkZkML8SPtOI",
    "pycharm": {
     "name": "#%% md\n"
    }
   },
   "source": [
    "# Машинное обучение\n",
    "\n",
    "1. Закодируйте все категориальные признаки с помощью OneHotEncoding.\n",
    "\n",
    "2. Разбейте данные на train и test.\n",
    "\n",
    "3. Обучите несколько алгоритмов классификации на полученных данных и выведите на экран качество (accuracy) каждого алгоритма на train и test."
   ]
  },
  {
   "cell_type": "code",
   "execution_count": null,
   "metadata": {
    "id": "k_4wsW0NPtOI",
    "pycharm": {
     "name": "#%%\n"
    }
   },
   "outputs": [],
   "source": [
    "#your code here"
   ]
  },
  {
   "cell_type": "markdown",
   "metadata": {
    "id": "6lQyiRsxPtOJ",
    "pycharm": {
     "name": "#%% md\n"
    }
   },
   "source": [
    "### Алгоритмы, которые вы можете попробовать"
   ]
  },
  {
   "cell_type": "code",
   "execution_count": null,
   "metadata": {
    "id": "dytrQr9WPtOJ",
    "pycharm": {
     "name": "#%%\n"
    }
   },
   "outputs": [],
   "source": [
    "from sklearn.linear_model import LogisticRegression\n",
    "from sklearn.svm import LinearSVC\n",
    "from sklearn.tree import DecisionTreeClassifier\n",
    "from sklearn.ensemble import RandomForestClassifier\n",
    "\n",
    "clf = LogisticRegression() #LinearSVC() и т.д."
   ]
  },
  {
   "cell_type": "markdown",
   "metadata": {
    "id": "xcPZc2zcPtOK",
    "pycharm": {
     "name": "#%% md\n"
    }
   },
   "source": [
    "# Сделайте выводы\n",
    "\n",
    "1. Какой или какие факторы больше всего влияют на красоту человека?\n",
    "2. Какой алгоритм сработал лучше всего?\n",
    "3. Какой алгоритм больше всего переобучился? (качество на валидационной выборке гораздо ниже, чем качество на обучающей, при этом качество на обучающей выборке достаточно высокое)."
   ]
  },
  {
   "cell_type": "code",
   "execution_count": null,
   "metadata": {
    "id": "untSImC7PxZV",
    "pycharm": {
     "name": "#%%\n"
    }
   },
   "outputs": [],
   "source": []
  }
 ],
 "metadata": {
  "colab": {
   "provenance": []
  },
  "kernelspec": {
   "display_name": "Python 3 (ipykernel)",
   "language": "python",
   "name": "python3"
  },
  "language_info": {
   "codemirror_mode": {
    "name": "ipython",
    "version": 3
   },
   "file_extension": ".py",
   "mimetype": "text/x-python",
   "name": "python",
   "nbconvert_exporter": "python",
   "pygments_lexer": "ipython3",
   "version": "3.11.4"
  }
 },
 "nbformat": 4,
 "nbformat_minor": 4
}