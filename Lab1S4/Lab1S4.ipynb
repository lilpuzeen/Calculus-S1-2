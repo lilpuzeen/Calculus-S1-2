{
 "cells": [
  {
   "cell_type": "markdown",
   "id": "268e646c-cda3-4ad9-a2b4-b62b2c64c0fa",
   "metadata": {},
   "source": [
    "# Лабораторная работа №1"
   ]
  },
  {
   "cell_type": "markdown",
   "id": "8bae1085-e195-422c-b56e-bbd14217a5f3",
   "metadata": {},
   "source": [
    "## Аналитический Метод"
   ]
  },
  {
   "cell_type": "markdown",
   "id": "88d663a4-d8e8-4fc9-afcf-44cd862c38bd",
   "metadata": {},
   "source": [
    "### Заданная функция"
   ]
  },
  {
   "cell_type": "markdown",
   "id": "30414cdd-2c5b-4a8e-b56f-93bd27130502",
   "metadata": {},
   "source": [
    "![function](images/function.png)"
   ]
  },
  {
   "cell_type": "markdown",
   "id": "691a6695-1771-4a94-8ee5-f18c02768c94",
   "metadata": {},
   "source": [
    "### 1.1 Докажите, что $f$ измерима по Лебегу на $E$"
   ]
  },
  {
   "cell_type": "markdown",
   "id": "70cef786-21ad-4e73-aeee-bacf0db0fb00",
   "metadata": {},
   "source": [
    "<p>Рассмотрим измеримость $f$ по определению. Исходя из факта, о равносильности измеримости Лебеговых множеств, проверим с помощью множеств вида $\\{f \\ge a\\}_{a \\in \\mathbb{R}}$</p>"
   ]
  },
  {
   "cell_type": "markdown",
   "id": "453b3dbb-3add-44c9-b11f-a23c13e64c80",
   "metadata": {},
   "source": [
    "$$a > \\pi \\Leftrightarrow \\{f \\ge a\\} = \\emptyset \\rightarrow \\text{измеримо}$$"
   ]
  },
  {
   "cell_type": "markdown",
   "id": "fceb87e8-3fa3-42b6-a159-8a305406b511",
   "metadata": {},
   "source": [
    "$$a \\in \\left(3; \\pi\\right] \\Leftrightarrow \\{f \\ge a\\} = \\{0\\} \\rightarrow \\text{измеримо}$$"
   ]
  },
  {
   "cell_type": "markdown",
   "id": "3bc206a3-4ff6-4dd6-8776-c68470acbf50",
   "metadata": {},
   "source": [
    "$$a \\in \\left(2; 3\\right] \\Leftrightarrow \\{f \\ge a\\} = \\{0, 3\\} \\rightarrow \\text{измеримо}$$"
   ]
  },
  {
   "cell_type": "markdown",
   "id": "b297cb2a-9b56-4430-82e0-28dd08589def",
   "metadata": {},
   "source": [
    "$$a \\in \\left(1; 2\\right] \\Leftrightarrow \\{f \\ge a\\} = [2, 3] \\cup \\{0\\} \\rightarrow \\text{измеримо}$$"
   ]
  },
  {
   "cell_type": "markdown",
   "id": "b8c63b7b-a3ce-465a-845d-7bbd8648002f",
   "metadata": {},
   "source": [
    "$$a \\in \\left(0.8; 1\\right] \\Leftrightarrow \\{f \\ge a\\} = [1, 3] \\cup \\{0\\} \\rightarrow \\text{измеримо}$$"
   ]
  },
  {
   "cell_type": "markdown",
   "id": "990225d5-8a97-495a-9030-9c8ef0adabbb",
   "metadata": {},
   "source": [
    "<p>$$a \\in (0; 0.8]$$ - имеем множество случаев, рассмотрим каждый из них</p>"
   ]
  },
  {
   "cell_type": "markdown",
   "id": "038d89f7-b85b-4c56-9f1e-2a2603536436",
   "metadata": {},
   "source": [
    "#### 1: $a = 0,0\\ldots 0a_k$ (до $a_k$ идет $k > 0$ нулей; причем после $a_k$ идут только нули)"
   ]
  },
  {
   "cell_type": "markdown",
   "id": "b9b58fdc-4ba5-439b-9297-fcd35d1743f2",
   "metadata": {},
   "source": [
    "#### 1.1: $a_k < 5 \\rightarrow \\{f \\ge a\\} = [a; 3] \\cup \\{0\\} - \\text{измеримо}$"
   ]
  },
  {
   "cell_type": "markdown",
   "id": "a001f26d-b849-45f5-bd64-b08845fc1506",
   "metadata": {},
   "source": [
    "#### 1.2: $ 5 \\le a_k < 9 \\rightarrow \\{f \\ge a\\} = [0,0\\ldots 0(a_k + 1); 3] \\cup \\{0\\} - \\text{измеримо}$"
   ]
  },
  {
   "cell_type": "markdown",
   "id": "71198050-1b92-4276-b26b-eaf0a345a0a2",
   "metadata": {},
   "source": [
    "#### 1.3: $ a_k = 9 \\rightarrow \\{f \\ge a\\} = [0,0\\ldots 01; 3] \\quad (k - 1 \\text{ нулей}) \\quad \\cup \\{0\\} - \\text{измеримо}$"
   ]
  },
  {
   "cell_type": "markdown",
   "id": "1f7123df-ecee-42a5-b00d-45ea0a611333",
   "metadata": {},
   "source": [
    "#### 2: $a = 0,0\\ldots0a_k\\ldots a_m$ (разница с первым пунктом в том, что после $a_k$ у нас может появиться еще одна цифра [к примеру $a_m$])"
   ]
  },
  {
   "cell_type": "markdown",
   "id": "640127a0-0e00-416e-9cae-80db486c0e3f",
   "metadata": {},
   "source": [
    "#### 2.1: $a_k < 4 \\rightarrow \\{f \\ge a\\} = [0,0\\ldots 0(a_k + 1); 3] \\cup \\{0\\} - \\text{измеримо}$"
   ]
  },
  {
   "cell_type": "markdown",
   "id": "0e66d6d1-6c81-4f6e-9522-1c657423159b",
   "metadata": {},
   "source": [
    "#### 2.2: $4 \\le a_k < 8 \\rightarrow \\{f \\ge a\\} = [0,0\\ldots 0(a_k + 2); 3] \\cup \\{0\\} - \\text{измеримо}$"
   ]
  },
  {
   "cell_type": "markdown",
   "id": "5f697f29-f282-49bd-a859-020a9188b21c",
   "metadata": {},
   "source": [
    "#### 2.3: $ a_k \\ge 8 \\rightarrow \\{f \\ge a\\} = [0,0\\ldots 01; 3] \\quad (k - 1 \\text{ нулей}) \\quad \\cup \\{0\\} - \\text{измеримо}$"
   ]
  },
  {
   "cell_type": "markdown",
   "id": "a59c6a82-074f-4904-907d-4cb809abca91",
   "metadata": {},
   "source": [
    "$$a \\in (0; 0.8] \\Leftrightarrow \\{f \\ge a\\} - \\text{измеримо}$$"
   ]
  },
  {
   "cell_type": "markdown",
   "id": "6616e8b6-7aec-40a2-b492-f7ae9426883c",
   "metadata": {},
   "source": [
    "$$a \\le 0 \\Leftrightarrow \\{f \\ge a\\} = [0; 3] - \\text{измеримо}$$"
   ]
  },
  {
   "cell_type": "markdown",
   "id": "3796fc8d-02cf-4e12-bf5b-91260236ef36",
   "metadata": {},
   "source": [
    "### Значит, что $$\\forall a \\in \\mathbb{R} \\rightarrow \\{f \\ge a\\} - \\text{измеримо} \\quad \\Rightarrow$$"
   ]
  },
  {
   "cell_type": "markdown",
   "id": "b57c656f-89b7-4899-a533-d1ea3a89735f",
   "metadata": {},
   "source": [
    "### $$\\Rightarrow \\text{все Лебеговы множества измеримы} \\Rightarrow$$"
   ]
  },
  {
   "cell_type": "markdown",
   "id": "e091e11e-b71f-47d2-a358-2e760e4d3b24",
   "metadata": {},
   "source": [
    "#### $$\\Rightarrow f - \\text{измеримо по определению}$$"
   ]
  },
  {
   "cell_type": "markdown",
   "id": "ec476d3f-d145-4757-aa27-c3ada5e3ba1f",
   "metadata": {},
   "source": [
    "### 1.2 Постройте последовательность простых ф-ий $f_n(x)$ такую, чтобы $f_n \\le f$, $f_n \\rightarrow f$ почти всюду на $E$"
   ]
  },
  {
   "cell_type": "markdown",
   "id": "290bbb50-859d-4827-899e-123e8aff0967",
   "metadata": {},
   "source": [
    "$$\n",
    "    f_n = \\left\\{\\begin{array}{lr}\n",
    "        \\pi, & \\text{for } x = 0\\\\\n",
    "        1, & \\text{for } x \\in [1; 2)\\\\\n",
    "        2, & \\text{for } x \\in [2; 3)\\\\\n",
    "        3, & \\text{for } x = 3\\\\\n",
    "        f(x), & \\text{for } x = 0,0\\ldots a_k... \\quad (a_k > 0, k \\le n)\\\\\n",
    "        0, & \\text{otherwise }\n",
    "        \\end{array}\\right\\}\n",
    "$$"
   ]
  },
  {
   "cell_type": "markdown",
   "id": "32828cc8-28c2-4cee-a3d9-defa7831d8ce",
   "metadata": {},
   "source": [
    "### Знаем что"
   ]
  },
  {
   "cell_type": "markdown",
   "id": "9068951e-c909-4454-a4b6-17325145d8ca",
   "metadata": {},
   "source": [
    "#### $$\\forall n \\in \\mathbb{N}, \\text{ на отрезке } [1; 3]: f_n = f$$"
   ]
  },
  {
   "cell_type": "markdown",
   "id": "4c68e4b0-849e-46f4-8d71-e29697fc837c",
   "metadata": {},
   "source": [
    "#### $$\\forall n \\in \\mathbb{N}: f_n(0) = f(0)$$"
   ]
  },
  {
   "cell_type": "markdown",
   "id": "92b79d2a-9601-4c66-8e92-b6f9c1e22994",
   "metadata": {},
   "source": [
    "#### $$x \\in (0; 1) \\Leftrightarrow f_n = f(x) \\text{ или } f_n = 0 \\Rightarrow f_n \\le f \\Rightarrow \\forall x \\in E: f_n \\le f$$"
   ]
  },
  {
   "cell_type": "markdown",
   "id": "d7ce30df-95eb-415f-b201-6159bd4b717f",
   "metadata": {},
   "source": [
    "#### $$n \\rightarrow \\infty \\Rightarrow \\text{мера } X = \\{\\,x\\, | f_n(x) \\ne f(x)\\} \\rightarrow 0 \\Rightarrow x \\in (0; 1) \\Leftrightarrow f_n \\rightarrow f \\text{ так как }$$"
   ]
  },
  {
   "cell_type": "markdown",
   "id": "e87b6db1-7469-4553-a19d-0cbdc320ef12",
   "metadata": {},
   "source": [
    "#### $$\\text{ на } [1; 3] \\cup \\{0\\} \\Rightarrow f_n = f, \\text{ означает } f_n \\rightarrow f \\text{ на } E$$"
   ]
  },
  {
   "cell_type": "markdown",
   "id": "a33501ef-79e2-4d52-96fe-9353db32bc0b",
   "metadata": {},
   "source": [
    "#### Также $$f_{n + 1} > f_n$$ так как $f_{n + 1}$ отличается от $f_n$ только в тех точках, где $f_n = 0$, вдовесок мы знаем что $f_{n + 1}$ доопределено в этих точках \"$\\ge 0$\" значениями $\\Rightarrow$ $f_n$ - возрастающая последовательность"
   ]
  },
  {
   "cell_type": "markdown",
   "id": "f2114766-d22d-4084-924e-c65da1caebf5",
   "metadata": {},
   "source": [
    "### 1.3 Запишите определение интеграла Лебега функции $f$ по $E$, используя построенную последовательность $f_n$. Вычислите аналитически, ссылаясь на соответствующие теоремы"
   ]
  },
  {
   "cell_type": "markdown",
   "id": "0f5c68e3-8d68-4548-a355-538cb4d82aa6",
   "metadata": {},
   "source": [
    "#### $$\\int f \\, d\\lambda = \\sup{\\left\\{\\int g \\, d\\lambda, \\, 0 \\le g \\le f, \\, g - \\text{простая}\\right\\}}$$"
   ]
  },
  {
   "cell_type": "markdown",
   "id": "2c0c4fae-cc3b-4599-bcea-9acd94671e81",
   "metadata": {},
   "source": [
    "#### где $$\\int_{E}{g \\, d\\lambda} = \\sum_{i = 1}^{N}{c_i \\, \\lambda E_i} \\quad E = \\bigsqcup_{i = 1}^{N}{E_i}$$"
   ]
  },
  {
   "cell_type": "markdown",
   "id": "7183cc6a-b57c-4852-b247-8ebac27a1236",
   "metadata": {},
   "source": [
    "#### $$f_n \\rightarrow f; f_n - \\text{измеримо}; 0 \\le f_n \\le f; f_n - \\text{возрастающая} \\Rightarrow$$ по теореме Леви $$\\Rightarrow \\int_{E}{f d\\mu} = \\lim_{n \\rightarrow \\infty}{\\int_{E}{f_n d\\mu}}$$"
   ]
  },
  {
   "cell_type": "markdown",
   "id": "aa4d596e-b693-4c20-a507-0346f5052731",
   "metadata": {},
   "source": [
    "#### $$\\int_{E}{f d\\mu} = \\int_{[0, 1)}{f d\\mu} + \\int_{[1, 2)}{f d\\mu} + \\int_{[2, 3)}{f d\\mu} + \\int_{\\{3\\}}{f d\\mu}$$"
   ]
  },
  {
   "cell_type": "markdown",
   "id": "0a7e290a-cabc-4bec-8438-7970369dc652",
   "metadata": {},
   "source": [
    "#### $$\\int_{[1, 2)}{f d\\lambda} = 1 \\cdot \\lambda([1; 2)) = 1$$ т.к на этом полуинтервале, $f$ - простая функция"
   ]
  },
  {
   "cell_type": "markdown",
   "id": "560bf91a-b4d1-4128-a220-138c692877b3",
   "metadata": {},
   "source": [
    "#### Аналогично $$\\int_{[2, 3)}{f d\\lambda} = 2 \\cdot \\lambda([2; 3)) = 2$$"
   ]
  },
  {
   "cell_type": "markdown",
   "id": "449c952a-d57d-4082-a31d-4635b811f526",
   "metadata": {},
   "source": [
    "#### Также $$\\int_{\\{3\\}}{f d\\lambda} = 0 \\Leftarrow \\lambda(\\{3\\}) = 0$$"
   ]
  },
  {
   "cell_type": "markdown",
   "id": "cb48f645-3a0d-422c-a2a8-8ccf058fbb6d",
   "metadata": {},
   "source": [
    "#### Нужно посчитать $$\\int_{[0, 1)}{f d\\lambda}$$"
   ]
  },
  {
   "cell_type": "markdown",
   "id": "b13c4e2d-31e6-4526-bcdc-16ec477cd7b6",
   "metadata": {},
   "source": [
    "#### Чтобы применить т. Леви, в первую очередь нужно доказать что $f_n$ - измеримая $\\Rightarrow \\{f \\ge a\\}_{\\forall a \\in \\mathbb{R}} - $ докажем что измеримое"
   ]
  },
  {
   "cell_type": "markdown",
   "id": "223f2ddd-1409-4152-81f0-bc8bb003ee73",
   "metadata": {},
   "source": [
    "#### Доказательство аналогично доказательству измеримости $f$, кроме момента с $a := 0,0\\ldots0a_k \\Leftrightarrow $ для таких $a$ - $\\{f \\ge a\\} -$ совпадает с уже измеримым множеством $\\{f \\ge 0,0\\ldots01\\}, (n\\text{ нулей}) \\Rightarrow f_n - \\text{измеримо } \\forall n \\in \\mathbb{N}$"
   ]
  },
  {
   "cell_type": "markdown",
   "id": "671bd656-d91f-4ca6-bd5a-ffd77baaf956",
   "metadata": {},
   "source": [
    "#### Используем теорему Леви $$\\int_{[0, 1)}{f_n d\\lambda} + \\int_{\\{0\\}}{f_n d\\lambda} + \\int_{(0, 1)}{f_n d\\lambda} = \\int_{(0, 1)}{f_n d\\lambda} = $$"
   ]
  },
  {
   "cell_type": "markdown",
   "id": "3e3706ea-1c3e-436b-939f-6cab936208ea",
   "metadata": {},
   "source": [
    "#### $$= \\sum_{j = 1}^{n}{\\frac{1}{10^j} \\cdot (1 + 2 + 3 + 4 + 4 + 5 +6 + 7 + 8) \\cdot \\frac{1}{10^j}} = 40 \\, \\sum_{j = 1}^{n}{\\frac{1}{10^{2j}}}$$"
   ]
  },
  {
   "cell_type": "markdown",
   "id": "caa268e4-f408-4330-84d3-efa5660a8a97",
   "metadata": {},
   "source": [
    "#### $$\\lim_{n \\rightarrow \\infty}{ 40 \\, \\sum_{j = 1}^{n}{\\frac{1}{10^{2j}}}} = 40 \\cdot \\lim_{n \\rightarrow \\infty}{\\sum_{j = 1}^{n}{\\frac{1}{10^{2j}}}} = 40 \\cdot \\frac{1}{10^2} \\cdot \\frac{1}{1 - \\frac{1}{10^2}} = \\frac{40}{99} \\Rightarrow$$"
   ]
  },
  {
   "cell_type": "markdown",
   "id": "7b323c5d-bd2a-4d2e-8fd0-62b25012dc9d",
   "metadata": {},
   "source": [
    "#### $$\\Rightarrow \\int_{E}{f \\, d\\lambda} = 3 + \\frac{40}{99} = \\frac{337}{99}$$"
   ]
  },
  {
   "cell_type": "markdown",
   "id": "e8d7ffc9-7cf8-4966-9a99-1f6bdece372a",
   "metadata": {},
   "source": [
    "### 1.4 Докажите (опираясь на соответствующие теоремы), что данная функция $F$ задает меру Лебега-Стилтьеса на $\\mu_F$"
   ]
  },
  {
   "cell_type": "markdown",
   "id": "2e9a3c52-336a-408c-9624-274459c329df",
   "metadata": {},
   "source": [
    "#### Требуется доказать что функция возрастающая и непрерывная слева"
   ]
  },
  {
   "cell_type": "markdown",
   "id": "da9bbe2b-aecf-4ca9-94d9-05172a4a7f6c",
   "metadata": {},
   "source": [
    "#### $3x$ возрастающая"
   ]
  },
  {
   "cell_type": "markdown",
   "id": "7fdac1ce-ca2e-4e96-b413-b2b9d212e895",
   "metadata": {},
   "source": [
    "#### $[-2x]$ убывает $\\Rightarrow$ $-[-2x]$ возрастающая"
   ]
  },
  {
   "cell_type": "markdown",
   "id": "22453c46-f52c-4636-b514-9dc7d9557c1a",
   "metadata": {},
   "source": [
    "#### $\\Rightarrow 3x - [-2x]$ возрастающая"
   ]
  },
  {
   "cell_type": "markdown",
   "id": "168f069d-5546-48c6-b2b5-af3bd65a6a2f",
   "metadata": {},
   "source": [
    "#### $3x$ - очевидно непрерывная слева"
   ]
  },
  {
   "cell_type": "markdown",
   "id": "5f3408a6-6c50-43d5-8919-f44d7005561a",
   "metadata": {},
   "source": [
    "#### $[-2x]$ - непрерывная слева, можно увидеть на графике"
   ]
  },
  {
   "cell_type": "code",
   "execution_count": 2,
   "id": "d91bd820-9052-411c-8d02-252802f74adf",
   "metadata": {},
   "outputs": [],
   "source": [
    "def func(x):\n",
    "    return np.floor(-2*x)"
   ]
  },
  {
   "cell_type": "code",
   "execution_count": 10,
   "id": "d5998b41-788e-4608-a587-33fe49ce58b3",
   "metadata": {},
   "outputs": [
    {
     "data": {
      "text/plain": [
       "<matplotlib.collections.PathCollection at 0x12d404950>"
      ]
     },
     "execution_count": 10,
     "metadata": {},
     "output_type": "execute_result"
    },
    {
     "data": {
      "image/png": "[encoded data removed]",
      "text/plain": [
       "<Figure size 640x480 with 1 Axes>"
      ]
     },
     "metadata": {},
     "output_type": "display_data"
    }
   ],
   "source": [
    "X = np.linspace(-2, 2, 1000)\n",
    "y = func(X)\n",
    "\n",
    "plt.scatter(X, y)"
   ]
  },
  {
   "cell_type": "markdown",
   "id": "7972bd5c-1f68-43f4-a4ab-ae55a1e23f3d",
   "metadata": {},
   "source": [
    "#### $F(x) = 3x - [-2x]$ - непрерывная функция $\\Rightarrow$ задает меру Лебега-Стилтьеса"
   ]
  },
  {
   "cell_type": "markdown",
   "id": "b6b44a39-b0ab-450c-b74b-e5c9d17839a3",
   "metadata": {},
   "source": [
    "### 1.5 Вычислите интеграл Лебега-Стилтьеса $$\\int_{E}{f \\, d\\mu_F}$$ аналитически"
   ]
  },
  {
   "cell_type": "markdown",
   "id": "8f72d394-6d91-4144-ac14-0304a47dc5c3",
   "metadata": {},
   "source": [
    "#### $$\\int_{E}{f d\\mu_F} = \\int_{[0, 1)}{f d\\mu_F} + \\int_{[1, 2)}{f d\\mu_F} + \\int_{[2, 3)}{f d\\mu_F} + \\int_{\\{3\\}}{f d\\mu_F}$$"
   ]
  },
  {
   "cell_type": "markdown",
   "id": "9a2ba159-f97f-4354-bc11-6a8da4387f9e",
   "metadata": {},
   "source": [
    "#### $$\\int_{[1, 2)}{f d\\mu_F} = 1 \\cdot \\mu_F([1; 2)) = 1 \\cdot (F(2) - F(1)) = 5$$"
   ]
  },
  {
   "cell_type": "markdown",
   "id": "334a3434-24f2-4536-ae92-4cdbf0ce9d54",
   "metadata": {},
   "source": [
    "#### $$\\int_{[2, 3)}{f d\\mu_F} = 2 \\cdot \\mu_F([2; 3)) = 2 \\cdot (F(3) - F(2)) = 10$$"
   ]
  },
  {
   "cell_type": "markdown",
   "id": "3ceb8115-2f94-4bc8-bdf4-6e4f8b121e5d",
   "metadata": {},
   "source": [
    "#### $$\\int_{\\{3\\}}{f d\\mu_F} = 3 \\cdot \\mu_F(\\{3\\}) = 3 \\cdot (F(3^+) - F(3)) = 3$$"
   ]
  },
  {
   "cell_type": "markdown",
   "id": "ffc37411-e96b-4aa1-86d4-a77f6a897050",
   "metadata": {},
   "source": [
    "##### $$\\int_{[0, 1)}{f d\\mu_F} = \\int_{\\{0\\}}{f d\\mu_F} + \\int_{(0, 1)}{f d\\mu_F} = \\pi \\cdot (F(0^+) - F(0)) + \\int_{(0, 1)}{f d\\mu_F} = \\pi + \\int_{(0, 1)}{f d\\mu}$$"
   ]
  },
  {
   "cell_type": "markdown",
   "id": "22dc653a-d63b-4129-bae8-0bdb635801cf",
   "metadata": {},
   "source": [
    "#### Рассмотрим $$\\int_{(0, 1)}{f d\\mu_F} = \\int_{(0, 0.1)}{f d\\mu_F} + \\int_{[0.1, 1)}{f d\\mu_F}$$"
   ]
  },
  {
   "cell_type": "markdown",
   "id": "69d85fe0-8b9d-4a23-b3d0-d9b6a11592f6",
   "metadata": {},
   "source": [
    "#### Так как $\\forall x \\in (0; 0.1): [-2x] = -1 \\Rightarrow \\mu_F (ячейки) = 3 \\cdot \\lambda (ячейки)$"
   ]
  },
  {
   "cell_type": "markdown",
   "id": "dabe7098-3d6a-47aa-8040-4a8eddc34f2f",
   "metadata": {},
   "source": [
    "##### По теореме Леви $$\\int_{(0, 0.1)}{f d\\mu_F} = \\lim_{n \\rightarrow \\infty}{\\int_{(0, 0.1)}{f_n d\\mu_F}} = \\sum_{j}{\\frac{3}{10^j} \\cdot (1 + 2 + 3 + 4 + 4 + 5 + 6 + 7 + 8) \\cdot \\frac{1}{10^j} = \\frac{120}{9900}}$$"
   ]
  },
  {
   "cell_type": "markdown",
   "id": "84413b82-b8b3-4c03-ab0d-0b9a308a5769",
   "metadata": {},
   "source": [
    "##### $$\\int_{[0.1, 1)}{f d\\mu_F} = \\lim_{n \\rightarrow \\infty}{\\int_{[0.1, 1)}{f_n d\\mu_F}} = \\frac{3}{10} \\cdot \\frac{1}{10} + \\frac{3}{10} \\cdot \\frac{2}{10} + \\frac{3}{10} \\cdot \\frac{3}{10} + \\frac{3}{10} \\cdot \\frac{4}{10} +$$"
   ]
  },
  {
   "cell_type": "markdown",
   "id": "354a5a04-5cf8-4130-bc76-5892f54c2f8c",
   "metadata": {},
   "source": [
    "##### $$ + \\frac{4}{10} \\cdot \\mu([0.5; 0.6)) + \\frac{3}{10} \\cdot \\frac{5}{10} + \\frac{3}{10} \\cdot \\frac{6}{10} + \\frac{3}{10} \\cdot \\frac{7}{10} + \\frac{3}{10} \\cdot \\frac{8}{10} = \\frac{8}{5}$$"
   ]
  },
  {
   "cell_type": "markdown",
   "id": "65a98c6a-0264-4288-a804-803ebe296197",
   "metadata": {},
   "source": [
    "### Следовательно $$\\int_{E}{f \\, d\\mu_F} = \\pi + \\frac{12}{990} + \\frac{8}{5} + 18$$"
   ]
  },
  {
   "cell_type": "markdown",
   "id": "654f80d5-2238-4c35-ad78-64369045832d",
   "metadata": {},
   "source": [
    "## Численный метод"
   ]
  },
  {
   "cell_type": "code",
   "execution_count": 34,
   "id": "9c748208-cbf8-47cd-8f00-f720891abb5a",
   "metadata": {},
   "outputs": [],
   "source": [
    "import numpy as np\n",
    "import pandas as pd\n",
    "import matplotlib.pyplot as plt\n",
    "import sympy\n",
    "from sympy import limit, symbols\n",
    "import time\n",
    "from functools import wraps\n",
    "from decimal import *"
   ]
  },
  {
   "cell_type": "markdown",
   "id": "c9e9323a-c27a-45ce-bc51-2ed8f8e7b4f6",
   "metadata": {},
   "source": [
    "### 2.1 Изобразите графики, $f_n$ при нескольких значениях $n$ или анимированный график (при увеличении $n$)"
   ]
  },
  {
   "cell_type": "code",
   "execution_count": 35,
   "id": "a324b36a-d38b-4a4d-b8c2-f8024ecf48b9",
   "metadata": {},
   "outputs": [],
   "source": [
    "def function_formula(x, L, variant):\n",
    "    if variant == 1:\n",
    "        condition = (4 >= np.floor(x * 10**L)) & (np.floor(x * 10**L) > 0)\n",
    "        return condition * (np.floor(x * 10**L) / 10**L)\n",
    "    elif variant == 2:\n",
    "        condition = (9 >= np.floor(x * 10**L)) & (np.floor(x * 10**L) > 4)\n",
    "        return condition * (np.floor(x * 10**L - 1) / 10**L)"
   ]
  },
  {
   "cell_type": "code",
   "execution_count": 36,
   "id": "02de96d3-910f-4c26-a1e2-e7e8f6133342",
   "metadata": {},
   "outputs": [
    {
     "data": {
      "image/png": "[encoded data removed]",
      "text/plain": [
       "<Figure size 1000x2000 with 6 Axes>"
      ]
     },
     "metadata": {},
     "output_type": "display_data"
    }
   ],
   "source": [
    "def generate_fractal(n, x_range, num_points):\n",
    "    x = np.linspace(*x_range, num_points)\n",
    "    y = np.zeros_like(x)\n",
    "    \n",
    "    for L in range(1, n + 1):\n",
    "        y += function_formula(x, L, 1) + function_formula(x, L, 2)\n",
    "    \n",
    "    return x, y\n",
    "\n",
    "x_range = (0, 1)\n",
    "num_points = 10000\n",
    "\n",
    "n_values = [1, 2, 3, 4, 5, 10]\n",
    "fig, axes = plt.subplots(len(n_values), 1, figsize=(10, 20))\n",
    "\n",
    "scaling_factors = [1, 2, 4, 8, 16, 32]\n",
    "\n",
    "assert len(scaling_factors) == len(n_values)\n",
    "\n",
    "for i, n in enumerate(n_values):\n",
    "    x, y = generate_fractal(n, x_range, num_points)\n",
    "    axes[i].scatter(x, y, label=f'n={n}', s=2)\n",
    "    axes[i].set_xlim(0, 1)\n",
    "    axes[i].set_ylim(0, 1 / scaling_factors[i])\n",
    "    axes[i].set_title(f'Fractal for n={n} with custom scaling')\n",
    "    axes[i].legend()\n",
    "    axes[i].grid(True)\n",
    "\n",
    "plt.tight_layout()\n",
    "plt.show()"
   ]
  },
  {
   "cell_type": "markdown",
   "id": "575e83a0-9185-43b4-986d-2a0baf5069ab",
   "metadata": {},
   "source": [
    "### 2.2 & 2.3 Вычислите интеграл Лебега от $f_n$ по $E$ для нескольких (больших) значений $n$. Сравните результат с аналитическим. Вычислите интеграл Лебега-Стилтьеса для функции $f_n$ при нескольких (больших) значениях $n$. Сравните результат с аналитическим"
   ]
  },
  {
   "cell_type": "code",
   "execution_count": 38,
   "id": "9afe3fd5-0c38-4aa7-8bbb-d7fd474a5d0d",
   "metadata": {},
   "outputs": [],
   "source": [
    "# Задаем константы\n",
    "getcontext().prec = 15\n",
    "\n",
    "# Определение функций и глобальных переменных\n",
    "x = symbols('x')\n",
    "measure_functions = {\n",
    "    \"Lebegue\": x,\n",
    "    \"Lebegue-Stieltjes\": 3 * x - sympy.floor(-2 * x)\n",
    "}\n",
    "real_values = {\n",
    "    \"Lebegue\": 337 / 99,\n",
    "    \"Lebegue-Stieltjes\": np.pi + 18 + 8 / 5 + 12 / 990\n",
    "}\n",
    "\n",
    "intervals = [(0, 0, True), (1, 2, True), (2, 3, True), (3, 3, True)]\n",
    "significant_digit_numbers = [10, 100, 200]\n",
    "number_range = range(1, 10)"
   ]
  },
  {
   "cell_type": "code",
   "execution_count": 39,
   "id": "0c6ca401-5c3e-4322-8fcb-59482e2cb02f",
   "metadata": {},
   "outputs": [],
   "source": [
    "# Зададим функцию\n",
    "def f_n(x):\n",
    "    match x:\n",
    "        case 0:\n",
    "            return np.pi\n",
    "        case 3:\n",
    "            return 3\n",
    "        case _ if 1 <= x < 2:\n",
    "            return 1\n",
    "        case _ if 2 <= x < 3:\n",
    "            return 2\n",
    "        case _:\n",
    "            check_num = str(x)\n",
    "            for i, char in enumerate(check_num):\n",
    "                if char.isdigit() and (new_number := int(char)) > 0:\n",
    "                    if new_number > 4:\n",
    "                        new_number -= 1\n",
    "                    return Decimal(check_num[:i] + str(new_number))\n",
    "            return 0"
   ]
  },
  {
   "cell_type": "code",
   "execution_count": 41,
   "id": "029610ab-5cea-44e7-b9c7-1cdb3ce31104",
   "metadata": {},
   "outputs": [
    {
     "name": "stdout",
     "output_type": "stream",
     "text": [
      "Function compute_integral call 1: 0.392600 seconds\n",
      "Function compute_integral call 2: 8.860082 seconds\n",
      "Function compute_integral was called 2 times\n",
      "Total time spent in compute_integral: 9.252682 seconds\n"
     ]
    }
   ],
   "source": [
    "# Считаем меру ячеек, точек и интервалов\n",
    "def calculate_interval_measure(interval_simple, measure):\n",
    "    left_point_measure = limit(measure, x, interval_simple[0], \"+\") - measure.subs(x, interval_simple[0])\n",
    "    if interval_simple[0] == interval_simple[1]:\n",
    "        return left_point_measure\n",
    "    cell_measure = measure.subs(x, interval_simple[1]) - measure.subs(x, interval_simple[0])\n",
    "    return cell_measure if interval_simple[2] else cell_measure - left_point_measure\n",
    "\n",
    "\n",
    "# Считающаем значение интеграла простой ф-ции\n",
    "def calculate_integral_simple(interval_simple, measure, function):\n",
    "    interval_measure = Decimal(str(calculate_interval_measure(interval_simple, measure)))\n",
    "    mid_point = (Decimal(interval_simple[0]) + Decimal(interval_simple[1])) / 2\n",
    "    return interval_measure * Decimal(function(mid_point))\n",
    "\n",
    "\n",
    "def profile_function(func):  #  Функция-декоратор для профилирования вызовов\n",
    "    stats = {\n",
    "        'call_count': 0,\n",
    "        'total_time': 0\n",
    "    }\n",
    "\n",
    "    @wraps(func)\n",
    "    def wrapper(*args, **kwargs):\n",
    "        stats['call_count'] += 1\n",
    "        start_time = time.time()\n",
    "        result = func(*args, **kwargs)\n",
    "        end_time = time.time()\n",
    "        elapsed_time = end_time - start_time\n",
    "        stats['total_time'] += elapsed_time\n",
    "        print(f\"Function {func.__name__} call {stats['call_count']}: {elapsed_time:.6f} seconds\")\n",
    "        return result\n",
    "\n",
    "    wrapper.stats = stats\n",
    "    return wrapper\n",
    "\n",
    "\n",
    "@profile_function\n",
    "def compute_integral(option, measure_func):\n",
    "    results = []\n",
    "    for number in significant_digit_numbers:\n",
    "        integral = sum(calculate_integral_simple(interval, measure_func, f_n) for interval in intervals)\n",
    "        integral += sum(\n",
    "            sum(\n",
    "                calculate_integral_simple(\n",
    "                    (Decimal(l) * Decimal(10) ** Decimal(-i), Decimal(l + 1) * Decimal(10) ** Decimal(-i), l > 0),\n",
    "                    measure_func,\n",
    "                    f_n\n",
    "                ) for l in number_range\n",
    "            ) for i in range(1, number + 1)\n",
    "        )\n",
    "        diff = integral - Decimal(real_values[option])\n",
    "        results.append({\n",
    "            'option': option,\n",
    "            'n': number,\n",
    "            'integral': integral,\n",
    "            'analytical_value': real_values[option],\n",
    "            'diff': diff\n",
    "        })\n",
    "    return results\n",
    "\n",
    "\n",
    "# Сборка данных в DataFrame\n",
    "all_results = []\n",
    "for option, measure_func in measure_functions.items():\n",
    "    all_results.extend(compute_integral(option, measure_func))\n",
    "\n",
    "df = pd.DataFrame(all_results)\n",
    "\n",
    "# Вывод статистики профилирования\n",
    "print(f\"Function {compute_integral.__name__} was called {compute_integral.stats['call_count']} times\")\n",
    "print(f\"Total time spent in {compute_integral.__name__}: {compute_integral.stats['total_time']:.6f} seconds\")"
   ]
  },
  {
   "cell_type": "code",
   "execution_count": 42,
   "id": "50958ca5-6fed-4fdb-b2e4-2f9093fa7e4d",
   "metadata": {},
   "outputs": [
    {
     "data": {
      "text/html": [
       "<div>\n",
       "<style scoped>\n",
       "    .dataframe tbody tr th:only-of-type {\n",
       "        vertical-align: middle;\n",
       "    }\n",
       "\n",
       "    .dataframe tbody tr th {\n",
       "        vertical-align: top;\n",
       "    }\n",
       "\n",
       "    .dataframe thead th {\n",
       "        text-align: right;\n",
       "    }\n",
       "</style>\n",
       "<table border=\"1\" class=\"dataframe\">\n",
       "  <thead>\n",
       "    <tr style=\"text-align: right;\">\n",
       "      <th></th>\n",
       "      <th>option</th>\n",
       "      <th>n</th>\n",
       "      <th>integral</th>\n",
       "      <th>analytical_value</th>\n",
       "      <th>diff</th>\n",
       "    </tr>\n",
       "  </thead>\n",
       "  <tbody>\n",
       "    <tr>\n",
       "      <th>0</th>\n",
       "      <td>Lebegue</td>\n",
       "      <td>10</td>\n",
       "      <td>3.40404484804000</td>\n",
       "      <td>3.404040</td>\n",
       "      <td>0.00000444399959602240</td>\n",
       "    </tr>\n",
       "    <tr>\n",
       "      <th>1</th>\n",
       "      <td>Lebegue</td>\n",
       "      <td>100</td>\n",
       "      <td>3.40404484848444</td>\n",
       "      <td>3.404040</td>\n",
       "      <td>0.00000444444403602240</td>\n",
       "    </tr>\n",
       "    <tr>\n",
       "      <th>2</th>\n",
       "      <td>Lebegue</td>\n",
       "      <td>200</td>\n",
       "      <td>3.40404484848444</td>\n",
       "      <td>3.404040</td>\n",
       "      <td>0.00000444444403602240</td>\n",
       "    </tr>\n",
       "    <tr>\n",
       "      <th>3</th>\n",
       "      <td>Lebegue-Stieltjes</td>\n",
       "      <td>10</td>\n",
       "      <td>22.7537271977098</td>\n",
       "      <td>22.753714</td>\n",
       "      <td>0.0000133319987937077</td>\n",
       "    </tr>\n",
       "    <tr>\n",
       "      <th>4</th>\n",
       "      <td>Lebegue-Stieltjes</td>\n",
       "      <td>100</td>\n",
       "      <td>22.7537271990431</td>\n",
       "      <td>22.753714</td>\n",
       "      <td>0.0000133333320937077</td>\n",
       "    </tr>\n",
       "    <tr>\n",
       "      <th>5</th>\n",
       "      <td>Lebegue-Stieltjes</td>\n",
       "      <td>200</td>\n",
       "      <td>22.7537271990431</td>\n",
       "      <td>22.753714</td>\n",
       "      <td>0.0000133333320937077</td>\n",
       "    </tr>\n",
       "  </tbody>\n",
       "</table>\n",
       "</div>"
      ],
      "text/plain": [
       "              option    n          integral  analytical_value  \\\n",
       "0            Lebegue   10  3.40404484804000          3.404040   \n",
       "1            Lebegue  100  3.40404484848444          3.404040   \n",
       "2            Lebegue  200  3.40404484848444          3.404040   \n",
       "3  Lebegue-Stieltjes   10  22.7537271977098         22.753714   \n",
       "4  Lebegue-Stieltjes  100  22.7537271990431         22.753714   \n",
       "5  Lebegue-Stieltjes  200  22.7537271990431         22.753714   \n",
       "\n",
       "                     diff  \n",
       "0  0.00000444399959602240  \n",
       "1  0.00000444444403602240  \n",
       "2  0.00000444444403602240  \n",
       "3   0.0000133319987937077  \n",
       "4   0.0000133333320937077  \n",
       "5   0.0000133333320937077  "
      ]
     },
     "execution_count": 42,
     "metadata": {},
     "output_type": "execute_result"
    }
   ],
   "source": [
    "df"
   ]
  },
  {
   "cell_type": "code",
   "execution_count": null,
   "id": "3533d09b-6c37-44f3-aef4-3b1950133010",
   "metadata": {},
   "outputs": [],
   "source": []
  }
 ],
 "metadata": {
  "kernelspec": {
   "display_name": "Python 3 (ipykernel)",
   "language": "python",
   "name": "python3"
  },
  "language_info": {
   "codemirror_mode": {
    "name": "ipython",
    "version": 3
   },
   "file_extension": ".py",
   "mimetype": "text/x-python",
   "name": "python",
   "nbconvert_exporter": "python",
   "pygments_lexer": "ipython3",
   "version": "3.11.5"
  }
 },
 "nbformat": 4,
 "nbformat_minor": 5
}
