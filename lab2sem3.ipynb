{
 "cells": [
  {
   "cell_type": "code",
   "execution_count": 14,
   "metadata": {
    "ExecuteTime": {
     "end_time": "2023-12-18T15:30:38.005992Z",
     "start_time": "2023-12-18T15:30:38.002582Z"
    },
    "collapsed": false,
    "jupyter": {
     "outputs_hidden": false
    }
   },
   "outputs": [],
   "source": [
    "import timeit\n",
    "\n",
    "from prettytable import PrettyTable"
   ]
  },
  {
   "cell_type": "code",
   "execution_count": 15,
   "metadata": {
    "ExecuteTime": {
     "end_time": "2023-12-18T15:30:38.543167Z",
     "start_time": "2023-12-18T15:30:38.538814Z"
    },
    "collapsed": false,
    "jupyter": {
     "outputs_hidden": false
    }
   },
   "outputs": [],
   "source": [
    "deltas = [0.1, 0.01, 0.001]  # Delta's values\n",
    "trueValue = 16 / 3  # Calculated integral value "
   ]
  },
  {
   "cell_type": "code",
   "execution_count": 16,
   "metadata": {
    "ExecuteTime": {
     "end_time": "2023-12-18T15:30:38.746928Z",
     "start_time": "2023-12-18T15:30:38.740590Z"
    },
    "collapsed": false,
    "jupyter": {
     "outputs_hidden": false
    }
   },
   "outputs": [],
   "source": [
    "def integralCurve(delta):\n",
    "    delta = delta / 2\n",
    "    Xgrid = [(i + 1) * delta - 2 for i in range(int(4 // delta + 1))]\n",
    "    prevX, prevY = -2, 0\n",
    "    intSum = 0\n",
    "    for x in Xgrid:\n",
    "        y = (4 - x ** 2) ** 0.5\n",
    "        intSum += (x ** 2 + y ** 2) * (x - prevX) + x * y * (y - prevY)\n",
    "        prevX, prevY = x, y\n",
    "\n",
    "    y = 0\n",
    "    for x in reversed(Xgrid):\n",
    "        intSum += (x ** 2 + y ** 2) * (x - prevX) + x * y * (y - prevY)\n",
    "        prevX, prevY = x, y\n",
    "\n",
    "    return intSum"
   ]
  },
  {
   "cell_type": "code",
   "execution_count": 17,
   "metadata": {
    "ExecuteTime": {
     "end_time": "2023-12-18T15:30:38.919199Z",
     "start_time": "2023-12-18T15:30:38.915367Z"
    },
    "collapsed": false,
    "jupyter": {
     "outputs_hidden": false
    }
   },
   "outputs": [],
   "source": [
    "def integralDouble(delta):\n",
    "    Xgrid = [i * delta - 2 for i in range(int(4 // delta + 2))]\n",
    "    Ygrid = [i * delta for i in range(int(2 // delta + 2))]\n",
    "    intSum = 0\n",
    "    for x in Xgrid:\n",
    "        for y in Ygrid:\n",
    "            x1, y1 = x + delta / 2, y + delta / 2\n",
    "            if x1 ** 2 + y1 ** 2 < 4:\n",
    "                intSum += y1 * delta ** 2\n",
    "\n",
    "    return intSum"
   ]
  },
  {
   "cell_type": "code",
   "execution_count": 18,
   "metadata": {
    "ExecuteTime": {
     "end_time": "2023-12-18T15:30:39.098352Z",
     "start_time": "2023-12-18T15:30:39.095516Z"
    },
    "collapsed": false,
    "jupyter": {
     "outputs_hidden": false
    }
   },
   "outputs": [],
   "source": [
    "# Create a table for line integral\n",
    "tableCurve = PrettyTable()\n",
    "tableCurve.field_names = [\"Delta\", \"Integral Sum\", \"Difference\", \"Time\"]\n",
    "\n",
    "for delta in deltas:\n",
    "    time = timeit.timeit(\"integralCurve(delta)\", number=1, globals=globals())\n",
    "    intSumCurve = integralCurve(delta)\n",
    "    difference = abs(intSumCurve - trueValue)\n",
    "    tableCurve.add_row([delta, intSumCurve, difference, time])"
   ]
  },
  {
   "cell_type": "code",
   "execution_count": 19,
   "metadata": {
    "ExecuteTime": {
     "end_time": "2023-12-18T15:30:42.639591Z",
     "start_time": "2023-12-18T15:30:39.546244Z"
    },
    "collapsed": false,
    "jupyter": {
     "outputs_hidden": false
    }
   },
   "outputs": [],
   "source": [
    "# Create a table for double integral\n",
    "tableDouble = PrettyTable()\n",
    "tableDouble.field_names = [\"Delta\", \"Integral Sum\", \"Difference\", \"Time\"]\n",
    "\n",
    "for delta in deltas:\n",
    "    time = timeit.timeit(\"integralDouble(delta)\", number=1, globals=globals())\n",
    "    intSumDouble = integralDouble(delta)\n",
    "    differenceDoub = abs(intSumDouble - trueValue)\n",
    "    tableDouble.add_row([delta, intSumDouble, differenceDoub, time])"
   ]
  },
  {
   "cell_type": "code",
   "execution_count": 22,
   "metadata": {
    "ExecuteTime": {
     "end_time": "2023-12-18T15:35:28.124223Z",
     "start_time": "2023-12-18T15:35:28.122443Z"
    },
    "collapsed": false,
    "jupyter": {
     "outputs_hidden": false
    }
   },
   "outputs": [
    {
     "name": "stdout",
     "output_type": "stream",
     "text": [
      "Results for the method of inscribed rectangles:\n",
      "+-------+-------------------+-----------------------+------------------------+\n",
      "| Delta |    Integral Sum   |       Difference      |          Time          |\n",
      "+-------+-------------------+-----------------------+------------------------+\n",
      "|  0.1  | 5.540449050157357 |  0.20711571682402408  | 0.00010295899994616775 |\n",
      "|  0.01 |  5.35343342381181 |  0.020100090478477384 | 0.0006424169999945661  |\n",
      "| 0.001 | 5.335334622210668 | 0.0020012888773353055 |  0.00630524999996851   |\n",
      "+-------+-------------------+-----------------------+------------------------+\n"
     ]
    }
   ],
   "source": [
    "# Output tables\n",
    "print(\"Results for the method of inscribed rectangles:\")\n",
    "print(tableCurve)"
   ]
  },
  {
   "cell_type": "code",
   "execution_count": 23,
   "metadata": {
    "ExecuteTime": {
     "end_time": "2023-12-18T15:35:28.584626Z",
     "start_time": "2023-12-18T15:35:28.582558Z"
    },
    "collapsed": false,
    "jupyter": {
     "outputs_hidden": false
    }
   },
   "outputs": [
    {
     "name": "stdout",
     "output_type": "stream",
     "text": [
      "\n",
      "Results for the method of central rectangles:\n",
      "+-------+-------------------+------------------------+------------------------+\n",
      "| Delta |    Integral Sum   |       Difference       |          Time          |\n",
      "+-------+-------------------+------------------------+------------------------+\n",
      "|  0.1  | 5.384000000000001 |  0.05066666666666819   | 0.00018008400002145208 |\n",
      "|  0.01 | 5.333988999999925 | 0.0006556666665922251  |  0.016366041000082987  |\n",
      "| 0.001 | 5.333350346000841 | 1.7012667507643187e-05 |   1.6174078750000263   |\n",
      "+-------+-------------------+------------------------+------------------------+\n"
     ]
    }
   ],
   "source": [
    "print(\"\\nResults for the method of central rectangles:\")\n",
    "print(tableDouble)"
   ]
  },
  {
   "cell_type": "code",
   "execution_count": null,
   "metadata": {
    "collapsed": false,
    "jupyter": {
     "outputs_hidden": false
    }
   },
   "outputs": [],
   "source": []
  }
 ],
 "metadata": {
  "kernelspec": {
   "display_name": "Python 3 (ipykernel)",
   "language": "python",
   "name": "python3"
  },
  "language_info": {
   "codemirror_mode": {
    "name": "ipython",
    "version": 3
   },
   "file_extension": ".py",
   "mimetype": "text/x-python",
   "name": "python",
   "nbconvert_exporter": "python",
   "pygments_lexer": "ipython3",
   "version": "3.11.5"
  }
 },
 "nbformat": 4,
 "nbformat_minor": 4
}
