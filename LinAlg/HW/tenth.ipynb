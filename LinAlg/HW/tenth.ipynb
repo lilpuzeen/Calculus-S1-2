{
 "cells": [
  {
   "cell_type": "code",
   "execution_count": 2,
   "metadata": {
    "ExecuteTime": {
     "end_time": "2023-05-29T14:31:04.808495Z",
     "start_time": "2023-05-29T14:31:04.806682Z"
    }
   },
   "outputs": [],
   "source": [
    "import numpy as np\n",
    "import numpy.linalg as nl\n",
    "from numpy.typing import NDArray\n",
    "import scipy.linalg as sp\n",
    "from sympy import Matrix"
   ]
  },
  {
   "cell_type": "code",
   "execution_count": 53,
   "metadata": {
    "ExecuteTime": {
     "end_time": "2023-05-29T14:36:49.776196Z",
     "start_time": "2023-05-29T14:36:49.774127Z"
    }
   },
   "outputs": [
    {
     "data": {
      "text/plain": [
       "array([[ -11.,   93.,   79.],\n",
       "       [  93., -789., -670.],\n",
       "       [  79., -670., -569.]])"
      ]
     },
     "execution_count": 53,
     "metadata": {},
     "output_type": "execute_result"
    }
   ],
   "source": [
    "Q = np.array([[-11, -14/2, 58/2], [-14/2, -5, 36/2], [58/2, 36/2, -77]])\n",
    "T = np.array([[-1, -2, 0], [0, 4, 3], [0, -3, -2]])\n",
    "T.transpose() @ Q @ T"
   ]
  },
  {
   "cell_type": "code",
   "execution_count": 10,
   "metadata": {},
   "outputs": [
    {
     "data": {
      "text/latex": [
       "$\\displaystyle \\left[\\begin{matrix}26.5 & 67.0 & 75.75\\\\67.0 & 170.75 & 193.5\\\\75.75 & 193.5 & 219.75\\end{matrix}\\right]$"
      ],
      "text/plain": [
       "Matrix([\n",
       "[ 26.5,   67.0,  75.75],\n",
       "[ 67.0, 170.75,  193.5],\n",
       "[75.75,  193.5, 219.75]])"
      ]
     },
     "execution_count": 10,
     "metadata": {},
     "output_type": "execute_result"
    }
   ],
   "source": [
    "Q1 = np.array([[14, 36, 41], [36, 93, 106], [41, 106, 121]])\n",
    "Q2 = np.array([[30, 76, 86], [76, 194, 220], [86, 220, 250]])\n",
    "q1, q2 = 1/4, 1/2\n",
    "for_v1 = Matrix(Q2 - Q1*q1)\n",
    "for_v2 = Matrix(Q2 - Q1*q2)\n",
    "for_v1"
   ]
  },
  {
   "cell_type": "code",
   "execution_count": null,
   "metadata": {},
   "outputs": [],
   "source": []
  }
 ],
 "metadata": {
  "kernelspec": {
   "display_name": "Python 3 (ipykernel)",
   "language": "python",
   "name": "python3"
  },
  "language_info": {
   "codemirror_mode": {
    "name": "ipython",
    "version": 3
   },
   "file_extension": ".py",
   "mimetype": "text/x-python",
   "name": "python",
   "nbconvert_exporter": "python",
   "pygments_lexer": "ipython3",
   "version": "3.9.12"
  }
 },
 "nbformat": 4,
 "nbformat_minor": 1
}
