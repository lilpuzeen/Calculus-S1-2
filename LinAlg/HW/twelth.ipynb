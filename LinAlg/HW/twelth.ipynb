{
 "cells": [
  {
   "cell_type": "code",
   "execution_count": 1,
   "metadata": {
    "collapsed": true,
    "ExecuteTime": {
     "end_time": "2023-05-24T20:40:59.604883Z",
     "start_time": "2023-05-24T20:40:59.141546Z"
    }
   },
   "outputs": [],
   "source": [
    "import numpy as np\n",
    "import numpy.linalg as nl\n",
    "from numpy.typing import NDArray\n",
    "import scipy.linalg as sp\n",
    "from sympy import Matrix"
   ]
  },
  {
   "cell_type": "code",
   "execution_count": 13,
   "outputs": [],
   "source": [
    "def to_string(a):\n",
    "\tresult = \"\"\n",
    "\tfor i in range(len(a)):\n",
    "\t\tfor j in range(len(a[i])):\n",
    "\t\t\tif j != len(a) - 1:\n",
    "\t\t\t\tresult += str(a[i][j]) + \", \"\n",
    "\t\t\telse:\n",
    "\t\t\t\tresult += str(a[i][j]) + \"; \"\n",
    "\treturn \"[\" + result[:-2] + \"]\""
   ],
   "metadata": {
    "collapsed": false,
    "ExecuteTime": {
     "end_time": "2023-05-24T20:50:09.833753Z",
     "start_time": "2023-05-24T20:50:09.828905Z"
    }
   }
  },
  {
   "cell_type": "code",
   "execution_count": 15,
   "outputs": [
    {
     "data": {
      "text/plain": "'[-2.449489742783178, -1.2247448713915892, -3.265986323710904, 8.573214099741126; 0.0, -2.1213203435596424, -2.8284271247461907, 4.006938426723769; 0.0, 0.0, -0.5773502691896252, 1.1547005383792517; 0.0, 0.0, 0.0, 0.3333333333333322]'"
     },
     "execution_count": 15,
     "metadata": {},
     "output_type": "execute_result"
    }
   ],
   "source": [
    "A = np.array([[1, 0, 1, -3], [0, 1, 1, -1], [-1, 1, 1, 0], [-2, -2, -4, 9]])\n",
    "QR = nl.qr(A)\n",
    "to_string(QR[1])"
   ],
   "metadata": {
    "collapsed": false,
    "ExecuteTime": {
     "end_time": "2023-05-24T20:51:02.043963Z",
     "start_time": "2023-05-24T20:51:02.043058Z"
    }
   }
  },
  {
   "cell_type": "code",
   "execution_count": 40,
   "outputs": [
    {
     "data": {
      "text/plain": "array([[ 0.        ,  0.        ,  1.        ],\n       [ 0.        ,  1.        ,  0.75      ],\n       [ 1.        ,  0.66666667, -0.5       ]])"
     },
     "execution_count": 40,
     "metadata": {},
     "output_type": "execute_result"
    }
   ],
   "source": [
    "A = np.array([[6, 6, -8], [-9, -15, 21], [-12, -16, 37]])\n",
    "L = np.array([[1, 0, 0], [-1.5, 1, 0], [-2, 2/3, 1]])\n",
    "U = [[6, 6, -8], [0, -6, 9], [0, 0, 15]]\n",
    "R = sp.lu(A) # Use wolfram"
   ],
   "metadata": {
    "collapsed": false,
    "ExecuteTime": {
     "end_time": "2023-05-27T19:15:59.606160Z",
     "start_time": "2023-05-27T19:15:59.601460Z"
    }
   }
  },
  {
   "cell_type": "code",
   "execution_count": 51,
   "outputs": [
    {
     "data": {
      "text/plain": "array([10.31884524,  1.2334638 ])"
     },
     "execution_count": 51,
     "metadata": {},
     "output_type": "execute_result"
    }
   ],
   "source": [
    "np.printoptions(precision=0, suppress=True)\n",
    "A = np.array([[3, 3, -3], [3, 6, -6]])\n",
    "sp.svd(A)[1] # Use wolfram"
   ],
   "metadata": {
    "collapsed": false,
    "ExecuteTime": {
     "end_time": "2023-05-27T19:22:57.691599Z",
     "start_time": "2023-05-27T19:22:57.688272Z"
    }
   }
  },
  {
   "cell_type": "code",
   "execution_count": 56,
   "outputs": [
    {
     "data": {
      "text/plain": "array([[ -69., -100.],\n       [  49.,   71.]])"
     },
     "execution_count": 56,
     "metadata": {},
     "output_type": "execute_result"
    }
   ],
   "source": [
    "A = np.array([[1, 0], [-1, 1]])\n",
    "G = np.array([[5, 7], [7, 10]])\n",
    "nl.inv(G) @ A.transpose() @ G"
   ],
   "metadata": {
    "collapsed": false,
    "ExecuteTime": {
     "end_time": "2023-05-31T16:03:52.050479Z",
     "start_time": "2023-05-31T16:03:52.036469Z"
    }
   }
  },
  {
   "cell_type": "code",
   "execution_count": null,
   "outputs": [],
   "source": [],
   "metadata": {
    "collapsed": false
   }
  }
 ],
 "metadata": {
  "kernelspec": {
   "display_name": "Python 3",
   "language": "python",
   "name": "python3"
  },
  "language_info": {
   "codemirror_mode": {
    "name": "ipython",
    "version": 2
   },
   "file_extension": ".py",
   "mimetype": "text/x-python",
   "name": "python",
   "nbconvert_exporter": "python",
   "pygments_lexer": "ipython2",
   "version": "2.7.6"
  }
 },
 "nbformat": 4,
 "nbformat_minor": 0
}
