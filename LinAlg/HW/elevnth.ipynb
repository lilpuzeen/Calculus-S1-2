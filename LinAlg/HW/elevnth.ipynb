{
 "cells": [
  {
   "cell_type": "code",
   "execution_count": 1,
   "id": "a5947ced-f8d7-4e21-9989-ebace0e0f706",
   "metadata": {},
   "outputs": [],
   "source": [
    "import numpy as np"
   ]
  },
  {
   "cell_type": "code",
   "execution_count": 2,
   "id": "cdaa0bb9-b5b7-46ac-a117-b90696c758c5",
   "metadata": {},
   "outputs": [
    {
     "data": {
      "text/plain": [
       "array([[  -85,  -155,   255],\n",
       "       [ 2669,  4867, -8007],\n",
       "       [ 1088,  1984, -3264]])"
      ]
     },
     "execution_count": 2,
     "metadata": {},
     "output_type": "execute_result"
    }
   ],
   "source": [
    "Q = np.array([\n",
    "    [1, 2, -2],\n",
    "    [2, 4, -4],\n",
    "    [-2, -4, 4]\n",
    "])\n",
    "\n",
    "T = np.array([\n",
    "    [1, 1, -1],\n",
    "    [-15, -27, 44],\n",
    "    [-6, -11, 18]\n",
    "])\n",
    "\n",
    "T @ Q @ T"
   ]
  },
  {
   "cell_type": "code",
   "execution_count": null,
   "id": "31479d1a-5e64-4e25-bc6d-b1cf8dd3f2f0",
   "metadata": {},
   "outputs": [],
   "source": []
  }
 ],
 "metadata": {
  "kernelspec": {
   "display_name": "Python 3 (ipykernel)",
   "language": "python",
   "name": "python3"
  },
  "language_info": {
   "codemirror_mode": {
    "name": "ipython",
    "version": 3
   },
   "file_extension": ".py",
   "mimetype": "text/x-python",
   "name": "python",
   "nbconvert_exporter": "python",
   "pygments_lexer": "ipython3",
   "version": "3.11.5"
  }
 },
 "nbformat": 4,
 "nbformat_minor": 5
}
