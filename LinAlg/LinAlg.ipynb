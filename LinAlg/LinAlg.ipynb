{
 "cells": [
  {
   "cell_type": "code",
   "execution_count": 1,
   "metadata": {
    "pycharm": {
     "name": "#%%\n"
    }
   },
   "outputs": [],
   "source": [
    "import numpy as np\n",
    "from sympy import *\n",
    "import scipy.linalg as sp\n",
    "init_printing(use_unicode=True)"
   ]
  },
  {
   "cell_type": "code",
   "execution_count": 2,
   "metadata": {
    "pycharm": {
     "name": "#%%\n"
    }
   },
   "outputs": [],
   "source": [
    "main_v = np.array([[-2, 3, 7, -7, -20], [1, -1, -3, 4, 8], [0, 0, 1, -1, -2]])"
   ]
  },
  {
   "cell_type": "code",
   "execution_count": 3,
   "metadata": {
    "pycharm": {
     "name": "#%%\n"
    }
   },
   "outputs": [
    {
     "data": {
      "text/plain": [
       "array([[ -2,   3,   7,  -7, -20],\n",
       "       [  1,  -1,  -3,   4,   8],\n",
       "       [  0,   0,   1,  -1,  -2]])"
      ]
     },
     "execution_count": 3,
     "metadata": {},
     "output_type": "execute_result"
    }
   ],
   "source": [
    "main_v"
   ]
  },
  {
   "cell_type": "code",
   "execution_count": 4,
   "metadata": {
    "pycharm": {
     "name": "#%%\n"
    }
   },
   "outputs": [],
   "source": [
    "v1 = main_v.dot(np.array([[-2], [-2], [1], [-14], [1]]))\n",
    "v2 = main_v.dot(np.array([[1], [1], [0], [6], [-1]]))\n",
    "v3 = main_v.dot(np.array([[1], [0], [0], [3], [2]]))"
   ]
  },
  {
   "cell_type": "code",
   "execution_count": 5,
   "metadata": {
    "pycharm": {
     "name": "#%%\n"
    }
   },
   "outputs": [
    {
     "data": {
      "text/plain": [
       "(array([[ 83],\n",
       "        [-51],\n",
       "        [ 13]]),\n",
       " array([[-21],\n",
       "        [ 16],\n",
       "        [ -4]]),\n",
       " array([[-63],\n",
       "        [ 29],\n",
       "        [ -7]]))"
      ]
     },
     "execution_count": 5,
     "metadata": {},
     "output_type": "execute_result"
    }
   ],
   "source": [
    "v1, v2, v3"
   ]
  },
  {
   "cell_type": "code",
   "execution_count": 6,
   "metadata": {
    "pycharm": {
     "name": "#%%\n"
    }
   },
   "outputs": [
    {
     "data": {
      "text/plain": [
       "array([[ 83, -21, -63],\n",
       "       [-51,  16,  29],\n",
       "       [ 13,  -4,  -7]])"
      ]
     },
     "execution_count": 6,
     "metadata": {},
     "output_type": "execute_result"
    }
   ],
   "source": [
    "main_v.dot(np.array([[-2, 1, 1], [-2, 1, 0], [1, 0, 0], [-14, 6, 3], [1, -1, 2]]))"
   ]
  },
  {
   "cell_type": "code",
   "execution_count": null,
   "metadata": {
    "pycharm": {
     "name": "#%%\n"
    }
   },
   "outputs": [],
   "source": []
  },
  {
   "cell_type": "code",
   "execution_count": 7,
   "metadata": {
    "pycharm": {
     "name": "#%%\n"
    }
   },
   "outputs": [],
   "source": [
    "main_v = np.array([[-2, 3, 7, -7, -20], [1, -1, -3, 4, 8], [0, 0, 1, -1, -2]])"
   ]
  },
  {
   "cell_type": "code",
   "execution_count": 8,
   "metadata": {
    "pycharm": {
     "name": "#%%\n"
    }
   },
   "outputs": [
    {
     "data": {
      "text/plain": [
       "array([[ -2,   3,   7,  -7, -20],\n",
       "       [  1,  -1,  -3,   4,   8],\n",
       "       [  0,   0,   1,  -1,  -2]])"
      ]
     },
     "execution_count": 8,
     "metadata": {},
     "output_type": "execute_result"
    }
   ],
   "source": [
    "main_v"
   ]
  },
  {
   "cell_type": "code",
   "execution_count": 9,
   "metadata": {
    "pycharm": {
     "name": "#%%\n"
    }
   },
   "outputs": [],
   "source": [
    "v1 = main_v.dot(np.array([[-2], [-2], [1], [-14], [1]]))\n",
    "v2 = main_v.dot(np.array([[1], [1], [0], [6], [-1]]))\n",
    "v3 = main_v.dot(np.array([[1], [0], [0], [3], [2]]))"
   ]
  },
  {
   "cell_type": "code",
   "execution_count": 10,
   "metadata": {
    "pycharm": {
     "name": "#%%\n"
    }
   },
   "outputs": [
    {
     "data": {
      "text/plain": [
       "(array([[ 83],\n",
       "        [-51],\n",
       "        [ 13]]),\n",
       " array([[-21],\n",
       "        [ 16],\n",
       "        [ -4]]),\n",
       " array([[-63],\n",
       "        [ 29],\n",
       "        [ -7]]))"
      ]
     },
     "execution_count": 10,
     "metadata": {},
     "output_type": "execute_result"
    }
   ],
   "source": [
    "v1, v2, v3"
   ]
  },
  {
   "cell_type": "code",
   "execution_count": 11,
   "metadata": {
    "pycharm": {
     "name": "#%%\n"
    }
   },
   "outputs": [
    {
     "data": {
      "text/plain": [
       "array([[ 83, -21, -63],\n",
       "       [-51,  16,  29],\n",
       "       [ 13,  -4,  -7]])"
      ]
     },
     "execution_count": 11,
     "metadata": {},
     "output_type": "execute_result"
    }
   ],
   "source": [
    "main_v.dot(np.array([[-2, 1, 1], [-2, 1, 0], [1, 0, 0], [-14, 6, 3], [1, -1, 2]]))"
   ]
  },
  {
   "cell_type": "code",
   "execution_count": null,
   "metadata": {
    "pycharm": {
     "name": "#%%\n"
    }
   },
   "outputs": [],
   "source": []
  },
  {
   "cell_type": "code",
   "execution_count": 12,
   "metadata": {
    "pycharm": {
     "name": "#%%\n"
    }
   },
   "outputs": [],
   "source": [
    "A = np.array([[-1, 1, -1], [-1, 2, -2], [4, -6, 7]])\n",
    "A_sq = A.dot(A)\n",
    "B = np.array([[-1, -1, 1], [1, 2, 0], [0, -1, 0]])\n",
    "Result = A_sq.dot(np.linalg.inv(B)) + np.linalg.inv(A) + B.dot(A)"
   ]
  },
  {
   "cell_type": "code",
   "execution_count": 13,
   "metadata": {
    "pycharm": {
     "name": "#%%\n"
    }
   },
   "outputs": [
    {
     "data": {
      "text/plain": [
       "array([[ -4., -20., -13.],\n",
       "       [-19., -18., -54.],\n",
       "       [ 60.,  87., 170.]])"
      ]
     },
     "execution_count": 13,
     "metadata": {},
     "output_type": "execute_result"
    }
   ],
   "source": [
    "Result"
   ]
  },
  {
   "cell_type": "code",
   "execution_count": null,
   "metadata": {
    "pycharm": {
     "name": "#%%\n"
    }
   },
   "outputs": [],
   "source": []
  },
  {
   "cell_type": "code",
   "execution_count": 14,
   "metadata": {
    "pycharm": {
     "name": "#%%\n"
    }
   },
   "outputs": [
    {
     "data": {
      "text/plain": [
       "array([[1.],\n",
       "       [3.],\n",
       "       [3.]])"
      ]
     },
     "execution_count": 14,
     "metadata": {},
     "output_type": "execute_result"
    }
   ],
   "source": [
    "a = np.array([[3, 5, -9], [0, -2, 5], [0, 0, 1/2]])\n",
    "b = np.array([[-9], [9], [3/2]])\n",
    "x = np.linalg.solve(a, b)\n",
    "x"
   ]
  },
  {
   "cell_type": "code",
   "execution_count": 15,
   "metadata": {
    "pycharm": {
     "name": "#%%\n"
    }
   },
   "outputs": [
    {
     "data": {
      "image/png": "[encoded data removed]",
      "text/latex": [
       "$\\displaystyle \\left[ \\left( -3, \\  1, \\  \\left[ \\left[\\begin{matrix}-2\\\\1\\\\1\\end{matrix}\\right]\\right]\\right), \\  \\left( 1, \\  2, \\  \\left[ \\left[\\begin{matrix}-2\\\\\\frac{1}{2}\\\\1\\end{matrix}\\right]\\right]\\right)\\right]$"
      ],
      "text/plain": [
       "⎡⎛       ⎡⎡-2⎤⎤⎞  ⎛      ⎡⎡-2 ⎤⎤⎞⎤\n",
       "⎢⎜       ⎢⎢  ⎥⎥⎟  ⎜      ⎢⎢   ⎥⎥⎟⎥\n",
       "⎢⎜-3, 1, ⎢⎢1 ⎥⎥⎟, ⎜1, 2, ⎢⎢1/2⎥⎥⎟⎥\n",
       "⎢⎜       ⎢⎢  ⎥⎥⎟  ⎜      ⎢⎢   ⎥⎥⎟⎥\n",
       "⎣⎝       ⎣⎣1 ⎦⎦⎠  ⎝      ⎣⎣ 1 ⎦⎦⎠⎦"
      ]
     },
     "execution_count": 15,
     "metadata": {},
     "output_type": "execute_result"
    }
   ],
   "source": [
    "Matrix([[13, 16, 16], \n",
    "        [-5, -7, -6], \n",
    "        [-6, -8, -7]]).eigenvects()"
   ]
  },
  {
   "cell_type": "code",
   "execution_count": 16,
   "metadata": {
    "pycharm": {
     "name": "#%%\n"
    }
   },
   "outputs": [
    {
     "data": {
      "image/png": "[encoded data removed]",
      "text/latex": [
       "$\\displaystyle \\left( \\left[\\begin{matrix}1 & 0 & 2\\\\0 & 1 & - \\frac{1}{2}\\\\0 & 0 & 0\\end{matrix}\\right], \\  \\left( 0, \\  1\\right)\\right)$"
      ],
      "text/plain": [
       "⎛⎡1  0   2  ⎤        ⎞\n",
       "⎜⎢          ⎥        ⎟\n",
       "⎜⎢0  1  -1/2⎥, (0, 1)⎟\n",
       "⎜⎢          ⎥        ⎟\n",
       "⎝⎣0  0   0  ⎦        ⎠"
      ]
     },
     "execution_count": 16,
     "metadata": {},
     "output_type": "execute_result"
    }
   ],
   "source": [
    "Matrix([[12, 16, 16], \n",
    "        [-5, -8, -6], \n",
    "        [-6, -8, -8]]).rref()"
   ]
  },
  {
   "cell_type": "code",
   "execution_count": 17,
   "metadata": {
    "pycharm": {
     "name": "#%%\n"
    }
   },
   "outputs": [
    {
     "data": {
      "text/plain": [
       "array([[-3.,  0.,  0.],\n",
       "       [ 0.,  1.,  1.],\n",
       "       [ 0.,  0.,  1.]])"
      ]
     },
     "execution_count": 17,
     "metadata": {},
     "output_type": "execute_result"
    }
   ],
   "source": [
    "a = np.array([[-2, -4, -3], [1, 1, 1], [1, 2, 1]])\n",
    "a_phi = np.array([[13, 16, 16], [-5, -7, -6], [-6, -8, -7]])\n",
    "np.linalg.inv(a).dot(a_phi).dot(a)"
   ]
  },
  {
   "cell_type": "code",
   "execution_count": 18,
   "metadata": {
    "pycharm": {
     "name": "#%%\n"
    }
   },
   "outputs": [],
   "source": [
    "def to_string(a):\n",
    "\tresult = \"\"\n",
    "\tfor i in range(len(a)):\n",
    "\t\tfor j in range(len(a[i])):\n",
    "\t\t\tif j != len(a) - 1:\n",
    "\t\t\t\tresult += str(a[i][j]) + \", \"\n",
    "\t\t\telse:\n",
    "\t\t\t\tresult += str(a[i][j]) + \"; \"\n",
    "\treturn \"[\" + result[:-2] + \"]\"\n"
   ]
  },
  {
   "cell_type": "code",
   "execution_count": 19,
   "metadata": {
    "pycharm": {
     "name": "#%%\n"
    }
   },
   "outputs": [
    {
     "data": {
      "image/png": "[encoded data removed]",
      "text/latex": [
       "$\\displaystyle \\left[ \\left[\\begin{matrix}1\\\\1\\\\0\\\\0\\end{matrix}\\right], \\  \\left[\\begin{matrix}-3\\\\0\\\\1\\\\0\\end{matrix}\\right], \\  \\left[\\begin{matrix}1\\\\0\\\\0\\\\1\\end{matrix}\\right]\\right]$"
      ],
      "text/plain": [
       "⎡⎡1⎤  ⎡-3⎤  ⎡1⎤⎤\n",
       "⎢⎢ ⎥  ⎢  ⎥  ⎢ ⎥⎥\n",
       "⎢⎢1⎥  ⎢0 ⎥  ⎢0⎥⎥\n",
       "⎢⎢ ⎥, ⎢  ⎥, ⎢ ⎥⎥\n",
       "⎢⎢0⎥  ⎢1 ⎥  ⎢0⎥⎥\n",
       "⎢⎢ ⎥  ⎢  ⎥  ⎢ ⎥⎥\n",
       "⎣⎣0⎦  ⎣0 ⎦  ⎣1⎦⎦"
      ]
     },
     "execution_count": 19,
     "metadata": {},
     "output_type": "execute_result"
    }
   ],
   "source": [
    "Anew = Matrix([[0, 0, 0, 0], [1, -1, 3, -1]])\n",
    "Anew.nullspace()"
   ]
  },
  {
   "cell_type": "code",
   "execution_count": 20,
   "metadata": {
    "pycharm": {
     "name": "#%%\n"
    }
   },
   "outputs": [
    {
     "data": {
      "image/png": "[encoded data removed]",
      "text/latex": [
       "$\\displaystyle \\left[ \\left( -3, \\  1, \\  \\left[ \\left[\\begin{matrix}0\\\\0\\\\- \\frac{1}{2}\\\\1\\end{matrix}\\right]\\right]\\right), \\  \\left( -2, \\  3, \\  \\left[ \\left[\\begin{matrix}0\\\\- \\frac{1}{2}\\\\1\\\\0\\end{matrix}\\right], \\  \\left[\\begin{matrix}-1\\\\\\frac{3}{2}\\\\0\\\\1\\end{matrix}\\right]\\right]\\right)\\right]$"
      ],
      "text/plain": [
       "⎡⎛       ⎡⎡ 0  ⎤⎤⎞  ⎛       ⎡⎡ 0  ⎤  ⎡-1 ⎤⎤⎞⎤\n",
       "⎢⎜       ⎢⎢    ⎥⎥⎟  ⎜       ⎢⎢    ⎥  ⎢   ⎥⎥⎟⎥\n",
       "⎢⎜       ⎢⎢ 0  ⎥⎥⎟  ⎜       ⎢⎢-1/2⎥  ⎢3/2⎥⎥⎟⎥\n",
       "⎢⎜-3, 1, ⎢⎢    ⎥⎥⎟, ⎜-2, 3, ⎢⎢    ⎥, ⎢   ⎥⎥⎟⎥\n",
       "⎢⎜       ⎢⎢-1/2⎥⎥⎟  ⎜       ⎢⎢ 1  ⎥  ⎢ 0 ⎥⎥⎟⎥\n",
       "⎢⎜       ⎢⎢    ⎥⎥⎟  ⎜       ⎢⎢    ⎥  ⎢   ⎥⎥⎟⎥\n",
       "⎣⎝       ⎣⎣ 1  ⎦⎦⎠  ⎝       ⎣⎣ 0  ⎦  ⎣ 1 ⎦⎦⎠⎦"
      ]
     },
     "execution_count": 20,
     "metadata": {},
     "output_type": "execute_result"
    }
   ],
   "source": [
    "pavel = Matrix([[5, 4, 2, 1], [-7, -6, -2, -1], [-3, -2, -3, 0], [-15, -8, -4, -5]])\n",
    "pavel.eigenvects()"
   ]
  },
  {
   "cell_type": "code",
   "execution_count": 21,
   "metadata": {
    "pycharm": {
     "name": "#%%\n"
    }
   },
   "outputs": [
    {
     "data": {
      "image/png": "[encoded data removed]",
      "text/latex": [
       "$\\displaystyle \\left( \\left[\\begin{matrix}1 & 0 & 0 & 0 & x\\\\0 & 1 & 0 & 0 & - \\frac{3 x}{2} + \\frac{y}{2}\\\\0 & 0 & 1 & 0 & - y\\\\0 & 0 & 0 & 1 & - x\\end{matrix}\\right], \\  \\left( 0, \\  1, \\  2, \\  3\\right)\\right)$"
      ],
      "text/plain": [
       "⎛⎡1  0  0  0      x    ⎤              ⎞\n",
       "⎜⎢                     ⎥              ⎟\n",
       "⎜⎢              3⋅x   y⎥              ⎟\n",
       "⎜⎢0  1  0  0  - ─── + ─⎥              ⎟\n",
       "⎜⎢               2    2⎥, (0, 1, 2, 3)⎟\n",
       "⎜⎢                     ⎥              ⎟\n",
       "⎜⎢0  0  1  0     -y    ⎥              ⎟\n",
       "⎜⎢                     ⎥              ⎟\n",
       "⎝⎣0  0  0  1     -x    ⎦              ⎠"
      ]
     },
     "execution_count": 21,
     "metadata": {},
     "output_type": "execute_result"
    }
   ],
   "source": [
    "x, y = symbols('x y')\n",
    "pavel = Matrix([[5, 4, 2, 1, -2*x], [-7, -6, -2, -1, 3*x - y], [-3, -2, -3, 0, 2*y], [-15, -8, -4, -5, 2*x]])\n",
    "pavel.rref()"
   ]
  },
  {
   "cell_type": "code",
   "execution_count": 22,
   "metadata": {
    "pycharm": {
     "name": "#%%\n"
    }
   },
   "outputs": [
    {
     "data": {
      "image/png": "[encoded data removed]",
      "text/latex": [
       "$\\displaystyle \\left( \\left[\\begin{matrix}1 & 0 & 0 & 0 & 1\\\\0 & 1 & 0 & 0 & 1\\\\0 & 0 & 1 & 0 & -5\\\\0 & 0 & 0 & 1 & -1\\end{matrix}\\right], \\  \\left( 0, \\  1, \\  2, \\  3\\right)\\right)$"
      ],
      "text/plain": [
       "⎛⎡1  0  0  0  1 ⎤              ⎞\n",
       "⎜⎢              ⎥              ⎟\n",
       "⎜⎢0  1  0  0  1 ⎥              ⎟\n",
       "⎜⎢              ⎥, (0, 1, 2, 3)⎟\n",
       "⎜⎢0  0  1  0  -5⎥              ⎟\n",
       "⎜⎢              ⎥              ⎟\n",
       "⎝⎣0  0  0  1  -1⎦              ⎠"
      ]
     },
     "execution_count": 22,
     "metadata": {},
     "output_type": "execute_result"
    }
   ],
   "source": [
    "pavel = Matrix([[5, 4, 2, 1, -2], [-7, -6, -2, -1, -2], [-3, -2, -3, 0, 10], [-15, -8, -4, -5, 2]])\n",
    "pavel.rref()"
   ]
  },
  {
   "cell_type": "code",
   "execution_count": 23,
   "metadata": {
    "pycharm": {
     "name": "#%%\n"
    }
   },
   "outputs": [
    {
     "data": {
      "image/png": "[encoded data removed]",
      "text/latex": [
       "$\\displaystyle \\left( 5.0, \\  2.0\\right)$"
      ],
      "text/plain": [
       "(5.0, 2.0)"
      ]
     },
     "execution_count": 23,
     "metadata": {},
     "output_type": "execute_result"
    }
   ],
   "source": [
    "a = np.array([[2, -2, -1], [0, -1, 1], [-1, 2, -1]])\n",
    "b = np.array([[1, 2, -2], [1, -2, 3], [-1, 1, -3]])\n",
    "\n",
    "T = sp.inv(a) @ b\n",
    "sp.det(T), T.trace()"
   ]
  },
  {
   "cell_type": "code",
   "execution_count": 28,
   "metadata": {
    "pycharm": {
     "name": "#%%\n"
    }
   },
   "outputs": [
    {
     "name": "stderr",
     "output_type": "stream",
     "text": [
      "/var/folders/bx/7zw8575x0294nd20wrcvh8fc0000gn/T/ipykernel_4322/1213503814.py:26: RuntimeWarning: invalid value encountered in arccos\n",
      "  print(norm(np.arccos(cos), G))\n"
     ]
    },
    {
     "ename": "ValueError",
     "evalue": "matmul: Input operand 1 has a mismatch in its core dimension 0, with gufunc signature (n?,k),(k,m?)->(n?,m?) (size 3 is different from 2)",
     "output_type": "error",
     "traceback": [
      "\u001b[0;31m---------------------------------------------------------------------------\u001b[0m",
      "\u001b[0;31mValueError\u001b[0m                                Traceback (most recent call last)",
      "Input \u001b[0;32mIn [28]\u001b[0m, in \u001b[0;36m<cell line: 26>\u001b[0;34m()\u001b[0m\n\u001b[1;32m     23\u001b[0m scalar \u001b[38;5;241m=\u001b[39m scalar_product(x, G, y)\n\u001b[1;32m     24\u001b[0m cos \u001b[38;5;241m=\u001b[39m (scalar \u001b[38;5;241m/\u001b[39m (normX \u001b[38;5;241m*\u001b[39m normY))\n\u001b[0;32m---> 26\u001b[0m \u001b[38;5;28mprint\u001b[39m(\u001b[43mnorm\u001b[49m\u001b[43m(\u001b[49m\u001b[43mnp\u001b[49m\u001b[38;5;241;43m.\u001b[39;49m\u001b[43marccos\u001b[49m\u001b[43m(\u001b[49m\u001b[43mcos\u001b[49m\u001b[43m)\u001b[49m\u001b[43m,\u001b[49m\u001b[43m \u001b[49m\u001b[43mG\u001b[49m\u001b[43m)\u001b[49m)\n",
      "Input \u001b[0;32mIn [28]\u001b[0m, in \u001b[0;36mnorm\u001b[0;34m(a, G)\u001b[0m\n\u001b[1;32m     10\u001b[0m \u001b[38;5;28;01mdef\u001b[39;00m \u001b[38;5;21mnorm\u001b[39m(a, G):\n\u001b[0;32m---> 11\u001b[0m     \u001b[38;5;28;01mreturn\u001b[39;00m \u001b[43mscalar_product\u001b[49m\u001b[43m(\u001b[49m\u001b[43ma\u001b[49m\u001b[43m,\u001b[49m\u001b[43m \u001b[49m\u001b[43mG\u001b[49m\u001b[43m,\u001b[49m\u001b[43m \u001b[49m\u001b[43ma\u001b[49m\u001b[43m)\u001b[49m \u001b[38;5;241m*\u001b[39m\u001b[38;5;241m*\u001b[39m \u001b[38;5;241m0.5\u001b[39m\n",
      "Input \u001b[0;32mIn [28]\u001b[0m, in \u001b[0;36mscalar_product\u001b[0;34m(x, G, y)\u001b[0m\n\u001b[1;32m      3\u001b[0m \u001b[38;5;28;01mdef\u001b[39;00m \u001b[38;5;21mscalar_product\u001b[39m(x, G, y):\n\u001b[0;32m----> 4\u001b[0m     \u001b[38;5;28;01mreturn\u001b[39;00m \u001b[43mx\u001b[49m\u001b[38;5;241;43m.\u001b[39;49m\u001b[43mtranspose\u001b[49m\u001b[43m(\u001b[49m\u001b[43m)\u001b[49m\u001b[43m \u001b[49m\u001b[38;5;241;43m@\u001b[39;49m\u001b[43m \u001b[49m\u001b[43mG\u001b[49m \u001b[38;5;241m@\u001b[39m y\n",
      "\u001b[0;31mValueError\u001b[0m: matmul: Input operand 1 has a mismatch in its core dimension 0, with gufunc signature (n?,k),(k,m?)->(n?,m?) (size 3 is different from 2)"
     ]
    }
   ],
   "source": [
    "import numpy as np\n",
    "\n",
    "def scalar_product(x, G, y):\n",
    "    return x.transpose() @ G @ y\n",
    "\n",
    "\n",
    "def proj(a, b, G):\n",
    "    return scalar_product(a, G, b) / scalar_product(b, G, b) * b\n",
    "\n",
    "def norm(a, G):\n",
    "    return scalar_product(a, G, a) ** 0.5\n",
    "\n",
    "x = np.array([-2, 1, 3])\n",
    "\n",
    "G = np.array([[2, -3, 1], [-3, 6, -1], [1, -1, 1]])\n",
    "\n",
    "y = np.array([[4, 1], [-2, 0], [-5, -1]])\n",
    "\n",
    "normX = np.sqrt(scalar_product(x, G, x))\n",
    "normY = np.sqrt(scalar_product(y, G, y))\n",
    "\n",
    "\n",
    "scalar = scalar_product(x, G, y)\n",
    "cos = (scalar / (normX * normY))\n",
    "\n",
    "print(norm(np.arccos(cos), G))"
   ]
  },
  {
   "cell_type": "code",
   "execution_count": null,
   "metadata": {},
   "outputs": [],
   "source": []
  }
 ],
 "metadata": {
  "kernelspec": {
   "display_name": "Python 3 (ipykernel)",
   "language": "python",
   "name": "python3"
  },
  "language_info": {
   "codemirror_mode": {
    "name": "ipython",
    "version": 3
   },
   "file_extension": ".py",
   "mimetype": "text/x-python",
   "name": "python",
   "nbconvert_exporter": "python",
   "pygments_lexer": "ipython3",
   "version": "3.9.12"
  }
 },
 "nbformat": 4,
 "nbformat_minor": 1
}
