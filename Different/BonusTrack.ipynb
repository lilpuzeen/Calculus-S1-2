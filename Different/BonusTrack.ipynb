{
 "cells": [
  {
   "cell_type": "code",
   "execution_count": 10,
   "id": "a75474cb",
   "metadata": {},
   "outputs": [],
   "source": [
    "import pandas as pd\n",
    "import numpy as np"
   ]
  },
  {
   "cell_type": "code",
   "execution_count": 31,
   "id": "9a009a31",
   "metadata": {},
   "outputs": [],
   "source": [
    "df = pd.read_csv(\"task1_v2_5_834829.csv\")\n",
    "df[\"Рейс 1\"] = pd.to_datetime(df[\"Рейс 1\"]).values.astype(np.int64)\n",
    "df[\"Рейс 2\"] = pd.to_datetime(df[\"Рейс 2\"]).values.astype(np.int64)\n",
    "df[\"Рейс 3\"] = pd.to_datetime(df[\"Рейс 3\"]).values.astype(np.int64)\n",
    "df[\"Рейс 4\"] = pd.to_datetime(df[\"Рейс 4\"]).values.astype(np.int64)"
   ]
  },
  {
   "cell_type": "code",
   "execution_count": 33,
   "id": "ffed81f4",
   "metadata": {},
   "outputs": [
    {
     "name": "stdout",
     "output_type": "stream",
     "text": [
      "1-Я И КАДЕТСКАЯ ЛИНИИ 2023-10-08 07:37:13.333333248\n",
      "1-Я И КАДЕТСКАЯ ЛИНИИ. МЕТРО \"СПОРТИВНАЯ\" 2023-10-08 07:38:36.666666496\n",
      "МЕТРО \"СПОРТИВНАЯ\" 2023-10-08 07:40:03.333333248\n",
      "КРОНВЕРКСКИЙ ПРОСПЕКТ 2023-10-08 07:41:20\n",
      "ЗВЕРИНСКАЯ УЛ. 2023-10-08 07:42:43.333333248\n"
     ]
    },
    {
     "name": "stderr",
     "output_type": "stream",
     "text": [
      "/var/folders/bx/7zw8575x0294nd20wrcvh8fc0000gn/T/ipykernel_53450/2161034399.py:3: SettingWithCopyWarning: \n",
      "A value is trying to be set on a copy of a slice from a DataFrame\n",
      "\n",
      "See the caveats in the documentation: https://pandas.pydata.org/pandas-docs/stable/user_guide/indexing.html#returning-a-view-versus-a-copy\n",
      "  df[\"Рейс 2\"][i] = df[\"Рейс 2\"][i - 1] + mean\n"
     ]
    }
   ],
   "source": [
    "for i in range(5, 10):\n",
    "    mean = np.mean([df[\"Рейс 1\"][i] - df[\"Рейс 1\"][i - 1], df[\"Рейс 3\"][i] - df[\"Рейс 3\"][i - 1], df[\"Рейс 4\"][i] - df[\"Рейс 4\"][i - 1]])\n",
    "    df[\"Рейс 2\"][i] = df[\"Рейс 2\"][i - 1] + mean\n",
    "    print(df[\"Точка маршрута\"][i], pd.to_datetime(df[\"Рейс 2\"][i]))"
   ]
  },
  {
   "cell_type": "code",
   "execution_count": null,
   "id": "879997c0",
   "metadata": {},
   "outputs": [],
   "source": []
  }
 ],
 "metadata": {
  "kernelspec": {
   "display_name": "Python 3 (ipykernel)",
   "language": "python",
   "name": "python3"
  },
  "language_info": {
   "codemirror_mode": {
    "name": "ipython",
    "version": 3
   },
   "file_extension": ".py",
   "mimetype": "text/x-python",
   "name": "python",
   "nbconvert_exporter": "python",
   "pygments_lexer": "ipython3",
   "version": "3.9.12"
  }
 },
 "nbformat": 4,
 "nbformat_minor": 5
}
